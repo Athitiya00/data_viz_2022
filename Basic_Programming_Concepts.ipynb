{
  "nbformat": 4,
  "nbformat_minor": 0,
  "metadata": {
    "colab": {
      "name": "Basic Programming Concepts.ipynb",
      "provenance": [],
      "authorship_tag": "ABX9TyNHJyxj6q469PnKmG5FzbTK",
      "include_colab_link": true
    },
    "kernelspec": {
      "name": "python3",
      "display_name": "Python 3"
    },
    "language_info": {
      "name": "python"
    }
  },
  "cells": [
    {
      "cell_type": "markdown",
      "metadata": {
        "id": "view-in-github",
        "colab_type": "text"
      },
      "source": [
        "<a href=\"https://colab.research.google.com/github/Athitiya00/data_viz_2022/blob/main/Basic_Programming_Concepts.ipynb\" target=\"_parent\"><img src=\"https://colab.research.google.com/assets/colab-badge.svg\" alt=\"Open In Colab\"/></a>"
      ]
    },
    {
      "cell_type": "markdown",
      "source": [
        "# Functions ($f(x)=y$)"
      ],
      "metadata": {
        "id": "aeYErYNYDmmM"
      }
    },
    {
      "cell_type": "markdown",
      "source": [
        "```python\n",
        "def function_name(input_x):\n",
        "     # do something with input_x to get output_y\n",
        "     return output_y\n",
        "```"
      ],
      "metadata": {
        "id": "iLW4S6gwEKL0"
      }
    },
    {
      "cell_type": "markdown",
      "source": [
        "$f_1(x)=x^2+75$"
      ],
      "metadata": {
        "id": "4skmkpZtFzCm"
      }
    },
    {
      "cell_type": "code",
      "source": [
        "def function_f1(x):\n",
        "     a = x**2\n",
        "     y = a + 75\n",
        "     return y\n",
        "     \n",
        "print('done!')     "
      ],
      "metadata": {
        "colab": {
          "base_uri": "https://localhost:8080/"
        },
        "id": "EIRm7NpxFuOV",
        "outputId": "de24aac2-fbaa-4f81-87d9-9a81408cd8e7"
      },
      "execution_count": 3,
      "outputs": [
        {
          "output_type": "stream",
          "name": "stdout",
          "text": [
            "done!\n"
          ]
        }
      ]
    },
    {
      "cell_type": "code",
      "source": [
        "function_f1(3)"
      ],
      "metadata": {
        "colab": {
          "base_uri": "https://localhost:8080/"
        },
        "id": "eVAXNGJtFuL_",
        "outputId": "8ecd4474-fa9c-4781-f46d-8c99dd529f41"
      },
      "execution_count": 2,
      "outputs": [
        {
          "output_type": "execute_result",
          "data": {
            "text/plain": [
              "84"
            ]
          },
          "metadata": {},
          "execution_count": 2
        }
      ]
    },
    {
      "cell_type": "markdown",
      "source": [
        "Function มีส่วนสำคัญทั้งหมด 4 ส่วน\n",
        "\n",
        "1. บอก ว่าเราจะเขียนฟังก์ชั่นชื่ออะไร ```def function_name() : ``` (ขาดไม่ได้)\n",
        "2. กำหนดตัวแปรที่จะเป็น input *input*(ขาดได้)\n",
        "3. ส่วนประมวลผล do_something wiht *input* to get *Output* (ขาดไม่ได้)\n",
        "4. ส่วน output ```return``` *output* (ขาดได้)"
      ],
      "metadata": {
        "id": "Wwu7WMqIHS_s"
      }
    },
    {
      "cell_type": "markdown",
      "source": [
        "ตัวอย่าง function ที่ไม่มี input"
      ],
      "metadata": {
        "id": "kaUyzSwAIuN0"
      }
    },
    {
      "cell_type": "code",
      "source": [
        "def pi_v():\n",
        "     y = 3.14159265359\n",
        "     return y"
      ],
      "metadata": {
        "id": "z_R0HbBEFuJQ"
      },
      "execution_count": 4,
      "outputs": []
    },
    {
      "cell_type": "code",
      "source": [
        "piv = pi_v()\n",
        "circle_area_r2 = piv*(2**2)\n",
        "print(circle_area_r2)"
      ],
      "metadata": {
        "colab": {
          "base_uri": "https://localhost:8080/"
        },
        "id": "VseVlxggFuGx",
        "outputId": "f6692463-6ae1-426b-ab05-55887bc631e9"
      },
      "execution_count": 5,
      "outputs": [
        {
          "output_type": "stream",
          "name": "stdout",
          "text": [
            "12.56637061436\n"
          ]
        }
      ]
    },
    {
      "cell_type": "markdown",
      "source": [
        "function ไม่มี process ไม่ได้\n"
      ],
      "metadata": {
        "id": "luHOEWYDJXyl"
      }
    },
    {
      "cell_type": "code",
      "source": [
        "def function_a():"
      ],
      "metadata": {
        "colab": {
          "base_uri": "https://localhost:8080/",
          "height": 132
        },
        "id": "HA0Lu-VrJXaO",
        "outputId": "298a642a-7c2a-4c4d-a043-c50d3136bbea"
      },
      "execution_count": 6,
      "outputs": [
        {
          "output_type": "error",
          "ename": "SyntaxError",
          "evalue": "ignored",
          "traceback": [
            "\u001b[0;36m  File \u001b[0;32m\"<ipython-input-6-07a0750214a8>\"\u001b[0;36m, line \u001b[0;32m1\u001b[0m\n\u001b[0;31m    def function_a():\u001b[0m\n\u001b[0m                     ^\u001b[0m\n\u001b[0;31mSyntaxError\u001b[0m\u001b[0;31m:\u001b[0m unexpected EOF while parsing\n"
          ]
        }
      ]
    },
    {
      "cell_type": "markdown",
      "source": [
        "function ที่ไม่มี output"
      ],
      "metadata": {
        "id": "gAGxdDVaJu4M"
      }
    },
    {
      "cell_type": "code",
      "source": [
        "def print_name_id(name,id):\n",
        "     print(f'ชื่อ {name} รหัสประจำตัว {id}')   "
      ],
      "metadata": {
        "id": "knmixH0hFuEt"
      },
      "execution_count": 12,
      "outputs": []
    },
    {
      "cell_type": "code",
      "source": [
        "print_name_id('อาธิติยา','623021058-0')"
      ],
      "metadata": {
        "colab": {
          "base_uri": "https://localhost:8080/"
        },
        "id": "gyFkEwFXFuCL",
        "outputId": "ad8afca8-43f7-43aa-e33e-dcd881e8786b"
      },
      "execution_count": 13,
      "outputs": [
        {
          "output_type": "stream",
          "name": "stdout",
          "text": [
            "ชื่อ อาธิติยา รหัสประจำตัว 623021058-0\n"
          ]
        }
      ]
    },
    {
      "cell_type": "code",
      "source": [
        "a = print_name_id('อาธิติยา','623021058-0')"
      ],
      "metadata": {
        "colab": {
          "base_uri": "https://localhost:8080/"
        },
        "id": "rU6W5h_JLZZ3",
        "outputId": "e9ed34b2-f6d1-4fc5-faf2-4ceec876c1ff"
      },
      "execution_count": 14,
      "outputs": [
        {
          "output_type": "stream",
          "name": "stdout",
          "text": [
            "ชื่อ อาธิติยา รหัสประจำตัว 623021058-0\n"
          ]
        }
      ]
    },
    {
      "cell_type": "code",
      "source": [
        "a"
      ],
      "metadata": {
        "id": "80CW6IgMLg_I"
      },
      "execution_count": 15,
      "outputs": []
    },
    {
      "cell_type": "markdown",
      "source": [
        "ตัวอย่าง function print https://www.programiz.com/python-programming/methods/built-in/print"
      ],
      "metadata": {
        "id": "3YSesJzJO8wz"
      }
    },
    {
      "cell_type": "code",
      "source": [
        "print('อาธิติยา')\n",
        "print('623021058-0')"
      ],
      "metadata": {
        "colab": {
          "base_uri": "https://localhost:8080/"
        },
        "id": "a8IR6TjrO7q6",
        "outputId": "31f21930-45e9-4ec1-ec5f-f8c83c48d4e9"
      },
      "execution_count": 16,
      "outputs": [
        {
          "output_type": "stream",
          "name": "stdout",
          "text": [
            "อาธิติยา\n",
            "623021058-0\n"
          ]
        }
      ]
    },
    {
      "cell_type": "code",
      "source": [
        "print('อาธิติยา',end='->')\n",
        "print('623021058-0')"
      ],
      "metadata": {
        "colab": {
          "base_uri": "https://localhost:8080/"
        },
        "id": "pbzWrBJJPk4s",
        "outputId": "3d05d887-e552-41b5-86ad-07131009341a"
      },
      "execution_count": 17,
      "outputs": [
        {
          "output_type": "stream",
          "name": "stdout",
          "text": [
            "อาธิติยา->623021058-0\n"
          ]
        }
      ]
    },
    {
      "cell_type": "code",
      "source": [
        "print('อาธิติยา','623021058-0')"
      ],
      "metadata": {
        "colab": {
          "base_uri": "https://localhost:8080/"
        },
        "id": "_MHIE9xkPsi4",
        "outputId": "a81fa669-e923-4d72-b894-06e8a7342510"
      },
      "execution_count": 18,
      "outputs": [
        {
          "output_type": "stream",
          "name": "stdout",
          "text": [
            "อาธิติยา 623021058-0\n"
          ]
        }
      ]
    },
    {
      "cell_type": "code",
      "source": [
        "print('อาธิติยา','623021058-0',sep=' & ')"
      ],
      "metadata": {
        "colab": {
          "base_uri": "https://localhost:8080/"
        },
        "id": "gGMluDRMQD1I",
        "outputId": "6935c319-45ed-47d5-986d-c5525c420bb2"
      },
      "execution_count": 19,
      "outputs": [
        {
          "output_type": "stream",
          "name": "stdout",
          "text": [
            "อาธิติยา & 623021058-0\n"
          ]
        }
      ]
    },
    {
      "cell_type": "markdown",
      "source": [
        "## input ของ function แบ่งเป้น 2 ชนิด (จำเป็นต้องใส่ กับ ไม่จำเป็นต้องใส่)"
      ],
      "metadata": {
        "id": "XVCT5lUDQLUy"
      }
    },
    {
      "cell_type": "code",
      "source": [
        "def print_grade(name,id,grade = 'F'):\n",
        "     print(f'รหัสประจำตัว {id} ชื่อ {name}' )\n",
        "     print(f'ได้เกรด {grade}')"
      ],
      "metadata": {
        "id": "nMbubV8mQfCo"
      },
      "execution_count": 21,
      "outputs": []
    },
    {
      "cell_type": "code",
      "source": [
        "print_grade('นางสาวอาธิติยา ธรรมวงษา','623021058-0')"
      ],
      "metadata": {
        "colab": {
          "base_uri": "https://localhost:8080/"
        },
        "id": "in0VNObMRYmQ",
        "outputId": "829eab23-a9d5-4159-b86d-524ea3e1362e"
      },
      "execution_count": 23,
      "outputs": [
        {
          "output_type": "stream",
          "name": "stdout",
          "text": [
            "รหัสประจำตัว 623021058-0 ชื่อ นางสาวอาธิติยา ธรรมวงษา\n",
            "ได้เกรด F\n"
          ]
        }
      ]
    },
    {
      "cell_type": "code",
      "source": [
        "print_grade('นางสาวอาธิติยา ธรรมวงษา','623021058-0','A')"
      ],
      "metadata": {
        "colab": {
          "base_uri": "https://localhost:8080/"
        },
        "id": "0bN_94E6SLNy",
        "outputId": "3a1fca08-08bf-4348-951d-e85a9d878e96"
      },
      "execution_count": 24,
      "outputs": [
        {
          "output_type": "stream",
          "name": "stdout",
          "text": [
            "รหัสประจำตัว 623021058-0 ชื่อ นางสาวอาธิติยา ธรรมวงษา\n",
            "ได้เกรด A\n"
          ]
        }
      ]
    },
    {
      "cell_type": "markdown",
      "source": [
        "# Looping (for)"
      ],
      "metadata": {
        "id": "vVCvTSlhDqqo"
      }
    },
    {
      "cell_type": "markdown",
      "source": [
        "# Conditional Statement (if)"
      ],
      "metadata": {
        "id": "G3U3GdwND4eh"
      }
    },
    {
      "cell_type": "code",
      "execution_count": null,
      "metadata": {
        "id": "ytelbdYgDZJR"
      },
      "outputs": [],
      "source": [
        ""
      ]
    }
  ]
}