{
  "nbformat": 4,
  "nbformat_minor": 0,
  "metadata": {
    "colab": {
      "name": "DataViz04 Data Comparison.ipynb",
      "provenance": [],
      "authorship_tag": "ABX9TyObYD9x6epVG2wVw0T3YjQ1",
      "include_colab_link": true
    },
    "kernelspec": {
      "name": "python3",
      "display_name": "Python 3"
    },
    "language_info": {
      "name": "python"
    }
  },
  "cells": [
    {
      "cell_type": "markdown",
      "metadata": {
        "id": "view-in-github",
        "colab_type": "text"
      },
      "source": [
        "<a href=\"https://colab.research.google.com/github/Athitiya00/data_viz_2022/blob/main/DataViz04_Data_Comparison.ipynb\" target=\"_parent\"><img src=\"https://colab.research.google.com/assets/colab-badge.svg\" alt=\"Open In Colab\"/></a>"
      ]
    },
    {
      "cell_type": "markdown",
      "source": [
        "# เปรียบเทียบ ข้อมูล ด้วย coordinate plot"
      ],
      "metadata": {
        "id": "zNNawNJs6N0R"
      }
    },
    {
      "cell_type": "code",
      "execution_count": 116,
      "metadata": {
        "id": "8ItHM6vV5xBr"
      },
      "outputs": [],
      "source": [
        "import pandas as pd"
      ]
    },
    {
      "cell_type": "code",
      "source": [
        "example_df = pd.read_csv('https://raw.github.com/pandas-dev/pandas/master/pandas/tests/io/data/csv/iris.csv')\n",
        "example_df"
      ],
      "metadata": {
        "colab": {
          "base_uri": "https://localhost:8080/",
          "height": 423
        },
        "id": "d9gAE4dA6i4j",
        "outputId": "1c8f6aab-d19a-40bc-bf58-9aebc0bdfe8a"
      },
      "execution_count": 117,
      "outputs": [
        {
          "output_type": "execute_result",
          "data": {
            "text/plain": [
              "     SepalLength  SepalWidth  PetalLength  PetalWidth            Name\n",
              "0            5.1         3.5          1.4         0.2     Iris-setosa\n",
              "1            4.9         3.0          1.4         0.2     Iris-setosa\n",
              "2            4.7         3.2          1.3         0.2     Iris-setosa\n",
              "3            4.6         3.1          1.5         0.2     Iris-setosa\n",
              "4            5.0         3.6          1.4         0.2     Iris-setosa\n",
              "..           ...         ...          ...         ...             ...\n",
              "145          6.7         3.0          5.2         2.3  Iris-virginica\n",
              "146          6.3         2.5          5.0         1.9  Iris-virginica\n",
              "147          6.5         3.0          5.2         2.0  Iris-virginica\n",
              "148          6.2         3.4          5.4         2.3  Iris-virginica\n",
              "149          5.9         3.0          5.1         1.8  Iris-virginica\n",
              "\n",
              "[150 rows x 5 columns]"
            ],
            "text/html": [
              "\n",
              "  <div id=\"df-1ca65a2c-a351-4fe4-ada1-a0475d401092\">\n",
              "    <div class=\"colab-df-container\">\n",
              "      <div>\n",
              "<style scoped>\n",
              "    .dataframe tbody tr th:only-of-type {\n",
              "        vertical-align: middle;\n",
              "    }\n",
              "\n",
              "    .dataframe tbody tr th {\n",
              "        vertical-align: top;\n",
              "    }\n",
              "\n",
              "    .dataframe thead th {\n",
              "        text-align: right;\n",
              "    }\n",
              "</style>\n",
              "<table border=\"1\" class=\"dataframe\">\n",
              "  <thead>\n",
              "    <tr style=\"text-align: right;\">\n",
              "      <th></th>\n",
              "      <th>SepalLength</th>\n",
              "      <th>SepalWidth</th>\n",
              "      <th>PetalLength</th>\n",
              "      <th>PetalWidth</th>\n",
              "      <th>Name</th>\n",
              "    </tr>\n",
              "  </thead>\n",
              "  <tbody>\n",
              "    <tr>\n",
              "      <th>0</th>\n",
              "      <td>5.1</td>\n",
              "      <td>3.5</td>\n",
              "      <td>1.4</td>\n",
              "      <td>0.2</td>\n",
              "      <td>Iris-setosa</td>\n",
              "    </tr>\n",
              "    <tr>\n",
              "      <th>1</th>\n",
              "      <td>4.9</td>\n",
              "      <td>3.0</td>\n",
              "      <td>1.4</td>\n",
              "      <td>0.2</td>\n",
              "      <td>Iris-setosa</td>\n",
              "    </tr>\n",
              "    <tr>\n",
              "      <th>2</th>\n",
              "      <td>4.7</td>\n",
              "      <td>3.2</td>\n",
              "      <td>1.3</td>\n",
              "      <td>0.2</td>\n",
              "      <td>Iris-setosa</td>\n",
              "    </tr>\n",
              "    <tr>\n",
              "      <th>3</th>\n",
              "      <td>4.6</td>\n",
              "      <td>3.1</td>\n",
              "      <td>1.5</td>\n",
              "      <td>0.2</td>\n",
              "      <td>Iris-setosa</td>\n",
              "    </tr>\n",
              "    <tr>\n",
              "      <th>4</th>\n",
              "      <td>5.0</td>\n",
              "      <td>3.6</td>\n",
              "      <td>1.4</td>\n",
              "      <td>0.2</td>\n",
              "      <td>Iris-setosa</td>\n",
              "    </tr>\n",
              "    <tr>\n",
              "      <th>...</th>\n",
              "      <td>...</td>\n",
              "      <td>...</td>\n",
              "      <td>...</td>\n",
              "      <td>...</td>\n",
              "      <td>...</td>\n",
              "    </tr>\n",
              "    <tr>\n",
              "      <th>145</th>\n",
              "      <td>6.7</td>\n",
              "      <td>3.0</td>\n",
              "      <td>5.2</td>\n",
              "      <td>2.3</td>\n",
              "      <td>Iris-virginica</td>\n",
              "    </tr>\n",
              "    <tr>\n",
              "      <th>146</th>\n",
              "      <td>6.3</td>\n",
              "      <td>2.5</td>\n",
              "      <td>5.0</td>\n",
              "      <td>1.9</td>\n",
              "      <td>Iris-virginica</td>\n",
              "    </tr>\n",
              "    <tr>\n",
              "      <th>147</th>\n",
              "      <td>6.5</td>\n",
              "      <td>3.0</td>\n",
              "      <td>5.2</td>\n",
              "      <td>2.0</td>\n",
              "      <td>Iris-virginica</td>\n",
              "    </tr>\n",
              "    <tr>\n",
              "      <th>148</th>\n",
              "      <td>6.2</td>\n",
              "      <td>3.4</td>\n",
              "      <td>5.4</td>\n",
              "      <td>2.3</td>\n",
              "      <td>Iris-virginica</td>\n",
              "    </tr>\n",
              "    <tr>\n",
              "      <th>149</th>\n",
              "      <td>5.9</td>\n",
              "      <td>3.0</td>\n",
              "      <td>5.1</td>\n",
              "      <td>1.8</td>\n",
              "      <td>Iris-virginica</td>\n",
              "    </tr>\n",
              "  </tbody>\n",
              "</table>\n",
              "<p>150 rows × 5 columns</p>\n",
              "</div>\n",
              "      <button class=\"colab-df-convert\" onclick=\"convertToInteractive('df-1ca65a2c-a351-4fe4-ada1-a0475d401092')\"\n",
              "              title=\"Convert this dataframe to an interactive table.\"\n",
              "              style=\"display:none;\">\n",
              "        \n",
              "  <svg xmlns=\"http://www.w3.org/2000/svg\" height=\"24px\"viewBox=\"0 0 24 24\"\n",
              "       width=\"24px\">\n",
              "    <path d=\"M0 0h24v24H0V0z\" fill=\"none\"/>\n",
              "    <path d=\"M18.56 5.44l.94 2.06.94-2.06 2.06-.94-2.06-.94-.94-2.06-.94 2.06-2.06.94zm-11 1L8.5 8.5l.94-2.06 2.06-.94-2.06-.94L8.5 2.5l-.94 2.06-2.06.94zm10 10l.94 2.06.94-2.06 2.06-.94-2.06-.94-.94-2.06-.94 2.06-2.06.94z\"/><path d=\"M17.41 7.96l-1.37-1.37c-.4-.4-.92-.59-1.43-.59-.52 0-1.04.2-1.43.59L10.3 9.45l-7.72 7.72c-.78.78-.78 2.05 0 2.83L4 21.41c.39.39.9.59 1.41.59.51 0 1.02-.2 1.41-.59l7.78-7.78 2.81-2.81c.8-.78.8-2.07 0-2.86zM5.41 20L4 18.59l7.72-7.72 1.47 1.35L5.41 20z\"/>\n",
              "  </svg>\n",
              "      </button>\n",
              "      \n",
              "  <style>\n",
              "    .colab-df-container {\n",
              "      display:flex;\n",
              "      flex-wrap:wrap;\n",
              "      gap: 12px;\n",
              "    }\n",
              "\n",
              "    .colab-df-convert {\n",
              "      background-color: #E8F0FE;\n",
              "      border: none;\n",
              "      border-radius: 50%;\n",
              "      cursor: pointer;\n",
              "      display: none;\n",
              "      fill: #1967D2;\n",
              "      height: 32px;\n",
              "      padding: 0 0 0 0;\n",
              "      width: 32px;\n",
              "    }\n",
              "\n",
              "    .colab-df-convert:hover {\n",
              "      background-color: #E2EBFA;\n",
              "      box-shadow: 0px 1px 2px rgba(60, 64, 67, 0.3), 0px 1px 3px 1px rgba(60, 64, 67, 0.15);\n",
              "      fill: #174EA6;\n",
              "    }\n",
              "\n",
              "    [theme=dark] .colab-df-convert {\n",
              "      background-color: #3B4455;\n",
              "      fill: #D2E3FC;\n",
              "    }\n",
              "\n",
              "    [theme=dark] .colab-df-convert:hover {\n",
              "      background-color: #434B5C;\n",
              "      box-shadow: 0px 1px 3px 1px rgba(0, 0, 0, 0.15);\n",
              "      filter: drop-shadow(0px 1px 2px rgba(0, 0, 0, 0.3));\n",
              "      fill: #FFFFFF;\n",
              "    }\n",
              "  </style>\n",
              "\n",
              "      <script>\n",
              "        const buttonEl =\n",
              "          document.querySelector('#df-1ca65a2c-a351-4fe4-ada1-a0475d401092 button.colab-df-convert');\n",
              "        buttonEl.style.display =\n",
              "          google.colab.kernel.accessAllowed ? 'block' : 'none';\n",
              "\n",
              "        async function convertToInteractive(key) {\n",
              "          const element = document.querySelector('#df-1ca65a2c-a351-4fe4-ada1-a0475d401092');\n",
              "          const dataTable =\n",
              "            await google.colab.kernel.invokeFunction('convertToInteractive',\n",
              "                                                     [key], {});\n",
              "          if (!dataTable) return;\n",
              "\n",
              "          const docLinkHtml = 'Like what you see? Visit the ' +\n",
              "            '<a target=\"_blank\" href=https://colab.research.google.com/notebooks/data_table.ipynb>data table notebook</a>'\n",
              "            + ' to learn more about interactive tables.';\n",
              "          element.innerHTML = '';\n",
              "          dataTable['output_type'] = 'display_data';\n",
              "          await google.colab.output.renderOutput(dataTable, element);\n",
              "          const docLink = document.createElement('div');\n",
              "          docLink.innerHTML = docLinkHtml;\n",
              "          element.appendChild(docLink);\n",
              "        }\n",
              "      </script>\n",
              "    </div>\n",
              "  </div>\n",
              "  "
            ]
          },
          "metadata": {},
          "execution_count": 117
        }
      ]
    },
    {
      "cell_type": "code",
      "source": [
        "#sample_data = example_df.iloc[::50,:] #กำหนดตัวที่1ถึงตัวสุดท้ายโดยกระโดดที่ละ50\n",
        "#sample_data"
      ],
      "metadata": {
        "id": "vjN-ebY16k3u"
      },
      "execution_count": 118,
      "outputs": []
    },
    {
      "cell_type": "code",
      "source": [
        "sample_data = example_df.groupby('Name').mean() #จัดกลุ่มข้อมูลโดยใช้ชื่อในคอลัมน์ Name\n",
        "sample_data"
      ],
      "metadata": {
        "colab": {
          "base_uri": "https://localhost:8080/",
          "height": 174
        },
        "id": "YJq26krE6voF",
        "outputId": "9df4ad04-449a-4607-f635-19cd3d772b80"
      },
      "execution_count": 119,
      "outputs": [
        {
          "output_type": "execute_result",
          "data": {
            "text/plain": [
              "                 SepalLength  SepalWidth  PetalLength  PetalWidth\n",
              "Name                                                             \n",
              "Iris-setosa            5.006       3.418        1.464       0.244\n",
              "Iris-versicolor        5.936       2.770        4.260       1.326\n",
              "Iris-virginica         6.588       2.974        5.552       2.026"
            ],
            "text/html": [
              "\n",
              "  <div id=\"df-8f81afa4-055e-4b69-9694-d4c8b6dbfb22\">\n",
              "    <div class=\"colab-df-container\">\n",
              "      <div>\n",
              "<style scoped>\n",
              "    .dataframe tbody tr th:only-of-type {\n",
              "        vertical-align: middle;\n",
              "    }\n",
              "\n",
              "    .dataframe tbody tr th {\n",
              "        vertical-align: top;\n",
              "    }\n",
              "\n",
              "    .dataframe thead th {\n",
              "        text-align: right;\n",
              "    }\n",
              "</style>\n",
              "<table border=\"1\" class=\"dataframe\">\n",
              "  <thead>\n",
              "    <tr style=\"text-align: right;\">\n",
              "      <th></th>\n",
              "      <th>SepalLength</th>\n",
              "      <th>SepalWidth</th>\n",
              "      <th>PetalLength</th>\n",
              "      <th>PetalWidth</th>\n",
              "    </tr>\n",
              "    <tr>\n",
              "      <th>Name</th>\n",
              "      <th></th>\n",
              "      <th></th>\n",
              "      <th></th>\n",
              "      <th></th>\n",
              "    </tr>\n",
              "  </thead>\n",
              "  <tbody>\n",
              "    <tr>\n",
              "      <th>Iris-setosa</th>\n",
              "      <td>5.006</td>\n",
              "      <td>3.418</td>\n",
              "      <td>1.464</td>\n",
              "      <td>0.244</td>\n",
              "    </tr>\n",
              "    <tr>\n",
              "      <th>Iris-versicolor</th>\n",
              "      <td>5.936</td>\n",
              "      <td>2.770</td>\n",
              "      <td>4.260</td>\n",
              "      <td>1.326</td>\n",
              "    </tr>\n",
              "    <tr>\n",
              "      <th>Iris-virginica</th>\n",
              "      <td>6.588</td>\n",
              "      <td>2.974</td>\n",
              "      <td>5.552</td>\n",
              "      <td>2.026</td>\n",
              "    </tr>\n",
              "  </tbody>\n",
              "</table>\n",
              "</div>\n",
              "      <button class=\"colab-df-convert\" onclick=\"convertToInteractive('df-8f81afa4-055e-4b69-9694-d4c8b6dbfb22')\"\n",
              "              title=\"Convert this dataframe to an interactive table.\"\n",
              "              style=\"display:none;\">\n",
              "        \n",
              "  <svg xmlns=\"http://www.w3.org/2000/svg\" height=\"24px\"viewBox=\"0 0 24 24\"\n",
              "       width=\"24px\">\n",
              "    <path d=\"M0 0h24v24H0V0z\" fill=\"none\"/>\n",
              "    <path d=\"M18.56 5.44l.94 2.06.94-2.06 2.06-.94-2.06-.94-.94-2.06-.94 2.06-2.06.94zm-11 1L8.5 8.5l.94-2.06 2.06-.94-2.06-.94L8.5 2.5l-.94 2.06-2.06.94zm10 10l.94 2.06.94-2.06 2.06-.94-2.06-.94-.94-2.06-.94 2.06-2.06.94z\"/><path d=\"M17.41 7.96l-1.37-1.37c-.4-.4-.92-.59-1.43-.59-.52 0-1.04.2-1.43.59L10.3 9.45l-7.72 7.72c-.78.78-.78 2.05 0 2.83L4 21.41c.39.39.9.59 1.41.59.51 0 1.02-.2 1.41-.59l7.78-7.78 2.81-2.81c.8-.78.8-2.07 0-2.86zM5.41 20L4 18.59l7.72-7.72 1.47 1.35L5.41 20z\"/>\n",
              "  </svg>\n",
              "      </button>\n",
              "      \n",
              "  <style>\n",
              "    .colab-df-container {\n",
              "      display:flex;\n",
              "      flex-wrap:wrap;\n",
              "      gap: 12px;\n",
              "    }\n",
              "\n",
              "    .colab-df-convert {\n",
              "      background-color: #E8F0FE;\n",
              "      border: none;\n",
              "      border-radius: 50%;\n",
              "      cursor: pointer;\n",
              "      display: none;\n",
              "      fill: #1967D2;\n",
              "      height: 32px;\n",
              "      padding: 0 0 0 0;\n",
              "      width: 32px;\n",
              "    }\n",
              "\n",
              "    .colab-df-convert:hover {\n",
              "      background-color: #E2EBFA;\n",
              "      box-shadow: 0px 1px 2px rgba(60, 64, 67, 0.3), 0px 1px 3px 1px rgba(60, 64, 67, 0.15);\n",
              "      fill: #174EA6;\n",
              "    }\n",
              "\n",
              "    [theme=dark] .colab-df-convert {\n",
              "      background-color: #3B4455;\n",
              "      fill: #D2E3FC;\n",
              "    }\n",
              "\n",
              "    [theme=dark] .colab-df-convert:hover {\n",
              "      background-color: #434B5C;\n",
              "      box-shadow: 0px 1px 3px 1px rgba(0, 0, 0, 0.15);\n",
              "      filter: drop-shadow(0px 1px 2px rgba(0, 0, 0, 0.3));\n",
              "      fill: #FFFFFF;\n",
              "    }\n",
              "  </style>\n",
              "\n",
              "      <script>\n",
              "        const buttonEl =\n",
              "          document.querySelector('#df-8f81afa4-055e-4b69-9694-d4c8b6dbfb22 button.colab-df-convert');\n",
              "        buttonEl.style.display =\n",
              "          google.colab.kernel.accessAllowed ? 'block' : 'none';\n",
              "\n",
              "        async function convertToInteractive(key) {\n",
              "          const element = document.querySelector('#df-8f81afa4-055e-4b69-9694-d4c8b6dbfb22');\n",
              "          const dataTable =\n",
              "            await google.colab.kernel.invokeFunction('convertToInteractive',\n",
              "                                                     [key], {});\n",
              "          if (!dataTable) return;\n",
              "\n",
              "          const docLinkHtml = 'Like what you see? Visit the ' +\n",
              "            '<a target=\"_blank\" href=https://colab.research.google.com/notebooks/data_table.ipynb>data table notebook</a>'\n",
              "            + ' to learn more about interactive tables.';\n",
              "          element.innerHTML = '';\n",
              "          dataTable['output_type'] = 'display_data';\n",
              "          await google.colab.output.renderOutput(dataTable, element);\n",
              "          const docLink = document.createElement('div');\n",
              "          docLink.innerHTML = docLinkHtml;\n",
              "          element.appendChild(docLink);\n",
              "        }\n",
              "      </script>\n",
              "    </div>\n",
              "  </div>\n",
              "  "
            ]
          },
          "metadata": {},
          "execution_count": 119
        }
      ]
    },
    {
      "cell_type": "code",
      "source": [
        "sample_data.iloc[0,:]"
      ],
      "metadata": {
        "colab": {
          "base_uri": "https://localhost:8080/"
        },
        "id": "0sKrINg07sWk",
        "outputId": "55c2955e-4d39-4d7b-d5d2-e6bed021c318"
      },
      "execution_count": 120,
      "outputs": [
        {
          "output_type": "execute_result",
          "data": {
            "text/plain": [
              "SepalLength    5.006\n",
              "SepalWidth     3.418\n",
              "PetalLength    1.464\n",
              "PetalWidth     0.244\n",
              "Name: Iris-setosa, dtype: float64"
            ]
          },
          "metadata": {},
          "execution_count": 120
        }
      ]
    },
    {
      "cell_type": "code",
      "source": [
        "from matplotlib import pyplot as plt"
      ],
      "metadata": {
        "id": "Zt6NkZ4e6-E9"
      },
      "execution_count": 121,
      "outputs": []
    },
    {
      "cell_type": "code",
      "source": [
        "plt.plot([1,2,3,4],sample_data.iloc[0,:],'or') # ดอกที่ 1(0) Iris-setosa เป็นจุดสีแดง\n",
        "plt.plot([1,2,3,4],sample_data.iloc[1,:],'g*') # ดอกที่ 2(1) Iris-versicolor เป็น*สีเขียว\n",
        "plt.plot([1,2,3,4],sample_data.iloc[2,:],'b^') # ดอกที่ 3(2) Iris-virginica\t เป็นสามเหลี่ยมสีนำ้เงิน\n",
        "#plt.plot([1,2,3,4] plot ตามคอลัมน์ 1 คือ SepalLength เป็นต้น"
      ],
      "metadata": {
        "colab": {
          "base_uri": "https://localhost:8080/",
          "height": 282
        },
        "id": "UzlMGBgp7qnw",
        "outputId": "f216d2a3-aca8-4c24-ba0e-739dadfd7477"
      },
      "execution_count": 122,
      "outputs": [
        {
          "output_type": "execute_result",
          "data": {
            "text/plain": [
              "[<matplotlib.lines.Line2D at 0x7f1583709e50>]"
            ]
          },
          "metadata": {},
          "execution_count": 122
        },
        {
          "output_type": "display_data",
          "data": {
            "text/plain": [
              "<Figure size 432x288 with 1 Axes>"
            ],
            "image/png": "[encoded data removed]"
          },
          "metadata": {
            "needs_background": "light"
          }
        }
      ]
    },
    {
      "cell_type": "code",
      "source": [
        "plt.plot([1,2,3,4],sample_data.iloc[0,:],'or-')\n",
        "plt.plot([1,2,3,4],sample_data.iloc[1,:],'g*-')\n",
        "plt.plot([1,2,3,4],sample_data.iloc[2,:],'b^-')\n",
        "#มีเส้นเชื่อมโยง ทำให้รู้ว่าแต่ละจุดมันสัมพันธ์กัน # แต่อันนี้ไม่มีความหมายลากเฉยๆ"
      ],
      "metadata": {
        "colab": {
          "base_uri": "https://localhost:8080/",
          "height": 282
        },
        "id": "ol2M_c9j8WNs",
        "outputId": "65f38343-a632-4816-a110-558cf491999f"
      },
      "execution_count": 123,
      "outputs": [
        {
          "output_type": "execute_result",
          "data": {
            "text/plain": [
              "[<matplotlib.lines.Line2D at 0x7f1586bcd2d0>]"
            ]
          },
          "metadata": {},
          "execution_count": 123
        },
        {
          "output_type": "display_data",
          "data": {
            "text/plain": [
              "<Figure size 432x288 with 1 Axes>"
            ],
            "image/png": "[encoded data removed]"
          },
          "metadata": {
            "needs_background": "light"
          }
        }
      ]
    },
    {
      "cell_type": "code",
      "source": [
        "plt.plot([1,1],[min(sample_data.iloc[:,0]),max(sample_data.iloc[:,0])],'c:')\n",
        "plt.plot([2,2],[min(sample_data.iloc[:,1]),max(sample_data.iloc[:,1])],'c:')\n",
        "plt.plot([3,3],[min(sample_data.iloc[:,2]),max(sample_data.iloc[:,2])],'c:')\n",
        "plt.plot([4,4],[min(sample_data.iloc[:,3]),max(sample_data.iloc[:,3])],'c:')\n",
        "\n",
        "plt.plot([1,2,3,4],sample_data.iloc[0,:],'or')\n",
        "plt.plot([1,2,3,4],sample_data.iloc[1,:],'g*')\n",
        "plt.plot([1,2,3,4],sample_data.iloc[2,:],'b^')\n"
      ],
      "metadata": {
        "colab": {
          "base_uri": "https://localhost:8080/",
          "height": 282
        },
        "id": "YhcT7mDr8gGL",
        "outputId": "98dfa3c2-133b-4949-a7ec-5b1f52996ef2"
      },
      "execution_count": 124,
      "outputs": [
        {
          "output_type": "execute_result",
          "data": {
            "text/plain": [
              "[<matplotlib.lines.Line2D at 0x7f15873ba5d0>]"
            ]
          },
          "metadata": {},
          "execution_count": 124
        },
        {
          "output_type": "display_data",
          "data": {
            "text/plain": [
              "<Figure size 432x288 with 1 Axes>"
            ],
            "image/png": "[encoded data removed]"
          },
          "metadata": {
            "needs_background": "light"
          }
        }
      ]
    },
    {
      "cell_type": "markdown",
      "source": [
        "## การใช้ plt.plot\n",
        "`plt.plot`(`พิกัดแกน X`,`พิกัดแกน Y`,`ลักษณะของ marker + เส้นเชื่อม`\n",
        "\n",
        "marker ->'cML'"
      ],
      "metadata": {
        "id": "d8014Uy9-6LK"
      }
    },
    {
      "cell_type": "code",
      "source": [
        "plt.plot([1],[2],'or')"
      ],
      "metadata": {
        "colab": {
          "base_uri": "https://localhost:8080/",
          "height": 282
        },
        "id": "nr6-7Nu6AbRu",
        "outputId": "4eb678a1-4d36-40cc-8e25-6d960682b4ab"
      },
      "execution_count": 125,
      "outputs": [
        {
          "output_type": "execute_result",
          "data": {
            "text/plain": [
              "[<matplotlib.lines.Line2D at 0x7f158474a190>]"
            ]
          },
          "metadata": {},
          "execution_count": 125
        },
        {
          "output_type": "display_data",
          "data": {
            "text/plain": [
              "<Figure size 432x288 with 1 Axes>"
            ],
            "image/png": "[encoded data removed]"
          },
          "metadata": {
            "needs_background": "light"
          }
        }
      ]
    },
    {
      "cell_type": "code",
      "source": [
        "plt.plot([1,2],[2,4],'or')"
      ],
      "metadata": {
        "colab": {
          "base_uri": "https://localhost:8080/",
          "height": 282
        },
        "id": "No9qIvZy-kC4",
        "outputId": "80ddba7d-6120-464e-8a2d-58574cb8ba32"
      },
      "execution_count": 126,
      "outputs": [
        {
          "output_type": "execute_result",
          "data": {
            "text/plain": [
              "[<matplotlib.lines.Line2D at 0x7f15873d4210>]"
            ]
          },
          "metadata": {},
          "execution_count": 126
        },
        {
          "output_type": "display_data",
          "data": {
            "text/plain": [
              "<Figure size 432x288 with 1 Axes>"
            ],
            "image/png": "[encoded data removed]"
          },
          "metadata": {
            "needs_background": "light"
          }
        }
      ]
    },
    {
      "cell_type": "code",
      "source": [
        "plt.plot([1,2],[2,4],'or-.')"
      ],
      "metadata": {
        "colab": {
          "base_uri": "https://localhost:8080/",
          "height": 282
        },
        "id": "T-ywmNWdARHU",
        "outputId": "9299f267-d817-414e-d4b8-3738d68f1c8b"
      },
      "execution_count": 127,
      "outputs": [
        {
          "output_type": "execute_result",
          "data": {
            "text/plain": [
              "[<matplotlib.lines.Line2D at 0x7f158472b150>]"
            ]
          },
          "metadata": {},
          "execution_count": 127
        },
        {
          "output_type": "display_data",
          "data": {
            "text/plain": [
              "<Figure size 432x288 with 1 Axes>"
            ],
            "image/png": "[encoded data removed]"
          },
          "metadata": {
            "needs_background": "light"
          }
        }
      ]
    },
    {
      "cell_type": "code",
      "source": [
        "example_df.iloc[:,:-1].columns.to_list() # ดูชื่อคอลัมน์ แต่ไม่เอาคอลัมนืสุดท้าย"
      ],
      "metadata": {
        "colab": {
          "base_uri": "https://localhost:8080/"
        },
        "id": "ap8b9zhHBzdm",
        "outputId": "72052def-13be-4bdd-f143-7ee07f4202ce"
      },
      "execution_count": 128,
      "outputs": [
        {
          "output_type": "execute_result",
          "data": {
            "text/plain": [
              "['SepalLength', 'SepalWidth', 'PetalLength', 'PetalWidth']"
            ]
          },
          "metadata": {},
          "execution_count": 128
        }
      ]
    },
    {
      "cell_type": "code",
      "source": [
        "plt.plot([1,1],[min(sample_data.iloc[:,0]),max(sample_data.iloc[:,0])],'c:')\n",
        "plt.plot([2,2],[min(sample_data.iloc[:,1]),max(sample_data.iloc[:,1])],'c:')\n",
        "plt.plot([3,3],[min(sample_data.iloc[:,2]),max(sample_data.iloc[:,2])],'c:')\n",
        "plt.plot([4,4],[min(sample_data.iloc[:,3]),max(sample_data.iloc[:,3])],'c:')\n",
        "\n",
        "plt.plot([1,2,3,4],sample_data.iloc[0,:],'or',label = 'setosa')\n",
        "plt.plot([1,2,3,4],sample_data.iloc[1,:],'g*',label = 'versicolor')\n",
        "plt.plot([1,2,3,4],sample_data.iloc[2,:],'b^',label = 'virginica')\n",
        "plt.legend()\n",
        "\n",
        "plt.xticks([1,2,3,4],example_df.iloc[:,:-1].columns.to_list(),rotation = 'vertical')\n",
        "\n",
        "plt.title('Features comparison between 3 different Iris Flowers')\n",
        "plt.ylabel('size (cm)');"
      ],
      "metadata": {
        "colab": {
          "base_uri": "https://localhost:8080/",
          "height": 329
        },
        "id": "BKBgxlj4AVG_",
        "outputId": "b22080d8-ee52-42e0-ce22-0aac836c2d6c"
      },
      "execution_count": 129,
      "outputs": [
        {
          "output_type": "display_data",
          "data": {
            "text/plain": [
              "<Figure size 432x288 with 1 Axes>"
            ],
            "image/png": "[encoded data removed]"
          },
          "metadata": {
            "needs_background": "light"
          }
        }
      ]
    },
    {
      "cell_type": "markdown",
      "source": [
        "#  HW วาดรูป ก้อนเมฆ และฝน ด้วย plt.plot\n",
        "\n"
      ],
      "metadata": {
        "id": "R8FMVPOvDutA"
      }
    },
    {
      "cell_type": "code",
      "source": [
        "# ก้อนเมฆ\n",
        "plt.figure(figsize=[10,6]) #กำหนดขนาดของรูปในแนวตั้งและแนวนอน\n",
        "plt.plot([0.5,0.5,0.5,0.5,1,1.5,2,2.5,3,3,3.5,4,4.5,5,5.5,6,6.5,7,7.5,8,8.5,8.5,9,9,10,10.5,11,11.5,12,12.5,12.5],\n",
        "           [1.5,2,2.5,3,3.5,4,4,4,4.5,5,5.5,6,6.5,6.5,6.5,6.5,6,5.5,5.5,5,4.5,4,4,4,4,3.5,3,3,3,2.5,2],'b-*')\n",
        "plt.plot([0.5,1,1.5,2,2.5,3,3.5,4,4.5,5,5.5,6,6.5,7,7.5,8,8.5,9,9.5,10,10.5,11,11.5,12,12.5,12.5],\n",
        "           [1.5,1,1,1,1,1,1,1,1,1,1,1,1,1,1,1,1,1,1,1,1,1,1,1,1.5,2],'b-*')\n",
        "\n",
        "# ฝน\n",
        "#แถวที่1\n",
        "plt.plot([1.5,2,2.5],[-0.5,-1,-1.5],'c-.')\n",
        "plt.plot([4.5,5,5.5],[-0.5,-1,-1.5],'b-.')\n",
        "plt.plot([7.5,8,8.5],[-0.5,-1,-1.5],'c-.')\n",
        "plt.plot([10.5,11,11.5],[-0.5,-1,-1.5],'b-.')\n",
        "#แถวที่2\n",
        "plt.plot([3.5,4,4.5],[-2,-2.5,-3],'b-.')\n",
        "plt.plot([6.5,7,7.5],[-2,-2.5,-3],'c-.')\n",
        "plt.plot([9.5,10,10.5],[-2,-2.5,-3],'b-.')\n"
      ],
      "metadata": {
        "id": "UFTpU-s3BZLu",
        "colab": {
          "base_uri": "https://localhost:8080/",
          "height": 0
        },
        "outputId": "90c8a781-d3c0-4e54-bcb1-05ff4649db32"
      },
      "execution_count": 130,
      "outputs": [
        {
          "output_type": "execute_result",
          "data": {
            "text/plain": [
              "[<matplotlib.lines.Line2D at 0x7f15842d58d0>]"
            ]
          },
          "metadata": {},
          "execution_count": 130
        },
        {
          "output_type": "display_data",
          "data": {
            "text/plain": [
              "<Figure size 720x432 with 1 Axes>"
            ],
            "image/png": "[encoded data removed]"
          },
          "metadata": {
            "needs_background": "light"
          }
        }
      ]
    },
    {
      "cell_type": "markdown",
      "source": [
        "## Bar chart"
      ],
      "metadata": {
        "id": "uNZArGmiXYS0"
      }
    },
    {
      "cell_type": "code",
      "source": [
        "sample_data"
      ],
      "metadata": {
        "id": "Vuxw0Payeh3I",
        "outputId": "33042f67-291f-44af-8b42-399e1b8058bc",
        "colab": {
          "base_uri": "https://localhost:8080/",
          "height": 0
        }
      },
      "execution_count": 131,
      "outputs": [
        {
          "output_type": "execute_result",
          "data": {
            "text/plain": [
              "                 SepalLength  SepalWidth  PetalLength  PetalWidth\n",
              "Name                                                             \n",
              "Iris-setosa            5.006       3.418        1.464       0.244\n",
              "Iris-versicolor        5.936       2.770        4.260       1.326\n",
              "Iris-virginica         6.588       2.974        5.552       2.026"
            ],
            "text/html": [
              "\n",
              "  <div id=\"df-8fed718e-3a06-4fda-916d-fe9f02c85cd6\">\n",
              "    <div class=\"colab-df-container\">\n",
              "      <div>\n",
              "<style scoped>\n",
              "    .dataframe tbody tr th:only-of-type {\n",
              "        vertical-align: middle;\n",
              "    }\n",
              "\n",
              "    .dataframe tbody tr th {\n",
              "        vertical-align: top;\n",
              "    }\n",
              "\n",
              "    .dataframe thead th {\n",
              "        text-align: right;\n",
              "    }\n",
              "</style>\n",
              "<table border=\"1\" class=\"dataframe\">\n",
              "  <thead>\n",
              "    <tr style=\"text-align: right;\">\n",
              "      <th></th>\n",
              "      <th>SepalLength</th>\n",
              "      <th>SepalWidth</th>\n",
              "      <th>PetalLength</th>\n",
              "      <th>PetalWidth</th>\n",
              "    </tr>\n",
              "    <tr>\n",
              "      <th>Name</th>\n",
              "      <th></th>\n",
              "      <th></th>\n",
              "      <th></th>\n",
              "      <th></th>\n",
              "    </tr>\n",
              "  </thead>\n",
              "  <tbody>\n",
              "    <tr>\n",
              "      <th>Iris-setosa</th>\n",
              "      <td>5.006</td>\n",
              "      <td>3.418</td>\n",
              "      <td>1.464</td>\n",
              "      <td>0.244</td>\n",
              "    </tr>\n",
              "    <tr>\n",
              "      <th>Iris-versicolor</th>\n",
              "      <td>5.936</td>\n",
              "      <td>2.770</td>\n",
              "      <td>4.260</td>\n",
              "      <td>1.326</td>\n",
              "    </tr>\n",
              "    <tr>\n",
              "      <th>Iris-virginica</th>\n",
              "      <td>6.588</td>\n",
              "      <td>2.974</td>\n",
              "      <td>5.552</td>\n",
              "      <td>2.026</td>\n",
              "    </tr>\n",
              "  </tbody>\n",
              "</table>\n",
              "</div>\n",
              "      <button class=\"colab-df-convert\" onclick=\"convertToInteractive('df-8fed718e-3a06-4fda-916d-fe9f02c85cd6')\"\n",
              "              title=\"Convert this dataframe to an interactive table.\"\n",
              "              style=\"display:none;\">\n",
              "        \n",
              "  <svg xmlns=\"http://www.w3.org/2000/svg\" height=\"24px\"viewBox=\"0 0 24 24\"\n",
              "       width=\"24px\">\n",
              "    <path d=\"M0 0h24v24H0V0z\" fill=\"none\"/>\n",
              "    <path d=\"M18.56 5.44l.94 2.06.94-2.06 2.06-.94-2.06-.94-.94-2.06-.94 2.06-2.06.94zm-11 1L8.5 8.5l.94-2.06 2.06-.94-2.06-.94L8.5 2.5l-.94 2.06-2.06.94zm10 10l.94 2.06.94-2.06 2.06-.94-2.06-.94-.94-2.06-.94 2.06-2.06.94z\"/><path d=\"M17.41 7.96l-1.37-1.37c-.4-.4-.92-.59-1.43-.59-.52 0-1.04.2-1.43.59L10.3 9.45l-7.72 7.72c-.78.78-.78 2.05 0 2.83L4 21.41c.39.39.9.59 1.41.59.51 0 1.02-.2 1.41-.59l7.78-7.78 2.81-2.81c.8-.78.8-2.07 0-2.86zM5.41 20L4 18.59l7.72-7.72 1.47 1.35L5.41 20z\"/>\n",
              "  </svg>\n",
              "      </button>\n",
              "      \n",
              "  <style>\n",
              "    .colab-df-container {\n",
              "      display:flex;\n",
              "      flex-wrap:wrap;\n",
              "      gap: 12px;\n",
              "    }\n",
              "\n",
              "    .colab-df-convert {\n",
              "      background-color: #E8F0FE;\n",
              "      border: none;\n",
              "      border-radius: 50%;\n",
              "      cursor: pointer;\n",
              "      display: none;\n",
              "      fill: #1967D2;\n",
              "      height: 32px;\n",
              "      padding: 0 0 0 0;\n",
              "      width: 32px;\n",
              "    }\n",
              "\n",
              "    .colab-df-convert:hover {\n",
              "      background-color: #E2EBFA;\n",
              "      box-shadow: 0px 1px 2px rgba(60, 64, 67, 0.3), 0px 1px 3px 1px rgba(60, 64, 67, 0.15);\n",
              "      fill: #174EA6;\n",
              "    }\n",
              "\n",
              "    [theme=dark] .colab-df-convert {\n",
              "      background-color: #3B4455;\n",
              "      fill: #D2E3FC;\n",
              "    }\n",
              "\n",
              "    [theme=dark] .colab-df-convert:hover {\n",
              "      background-color: #434B5C;\n",
              "      box-shadow: 0px 1px 3px 1px rgba(0, 0, 0, 0.15);\n",
              "      filter: drop-shadow(0px 1px 2px rgba(0, 0, 0, 0.3));\n",
              "      fill: #FFFFFF;\n",
              "    }\n",
              "  </style>\n",
              "\n",
              "      <script>\n",
              "        const buttonEl =\n",
              "          document.querySelector('#df-8fed718e-3a06-4fda-916d-fe9f02c85cd6 button.colab-df-convert');\n",
              "        buttonEl.style.display =\n",
              "          google.colab.kernel.accessAllowed ? 'block' : 'none';\n",
              "\n",
              "        async function convertToInteractive(key) {\n",
              "          const element = document.querySelector('#df-8fed718e-3a06-4fda-916d-fe9f02c85cd6');\n",
              "          const dataTable =\n",
              "            await google.colab.kernel.invokeFunction('convertToInteractive',\n",
              "                                                     [key], {});\n",
              "          if (!dataTable) return;\n",
              "\n",
              "          const docLinkHtml = 'Like what you see? Visit the ' +\n",
              "            '<a target=\"_blank\" href=https://colab.research.google.com/notebooks/data_table.ipynb>data table notebook</a>'\n",
              "            + ' to learn more about interactive tables.';\n",
              "          element.innerHTML = '';\n",
              "          dataTable['output_type'] = 'display_data';\n",
              "          await google.colab.output.renderOutput(dataTable, element);\n",
              "          const docLink = document.createElement('div');\n",
              "          docLink.innerHTML = docLinkHtml;\n",
              "          element.appendChild(docLink);\n",
              "        }\n",
              "      </script>\n",
              "    </div>\n",
              "  </div>\n",
              "  "
            ]
          },
          "metadata": {},
          "execution_count": 131
        }
      ]
    },
    {
      "cell_type": "code",
      "source": [
        "sample_data['PetalLength']"
      ],
      "metadata": {
        "id": "RgluIccXaiAY",
        "outputId": "ac10407a-9f2c-49be-e1c8-8ba9a0a7fbe9",
        "colab": {
          "base_uri": "https://localhost:8080/"
        }
      },
      "execution_count": 132,
      "outputs": [
        {
          "output_type": "execute_result",
          "data": {
            "text/plain": [
              "Name\n",
              "Iris-setosa        1.464\n",
              "Iris-versicolor    4.260\n",
              "Iris-virginica     5.552\n",
              "Name: PetalLength, dtype: float64"
            ]
          },
          "metadata": {},
          "execution_count": 132
        }
      ]
    },
    {
      "cell_type": "code",
      "source": [
        "sample_data['PetalLength'][0]"
      ],
      "metadata": {
        "id": "PSfRS_cUXp1N",
        "outputId": "76efd962-f059-4b09-c5e9-1f79ecc3e9d6",
        "colab": {
          "base_uri": "https://localhost:8080/"
        }
      },
      "execution_count": 133,
      "outputs": [
        {
          "output_type": "execute_result",
          "data": {
            "text/plain": [
              "1.464"
            ]
          },
          "metadata": {},
          "execution_count": 133
        }
      ]
    },
    {
      "cell_type": "markdown",
      "source": [
        "### เปรียบเทียบปริมาณ 1 ปริมาณของ object หลาย class"
      ],
      "metadata": {
        "id": "aWAOGPTzalCo"
      }
    },
    {
      "cell_type": "code",
      "source": [
        "plt.bar([1,2,3],sample_data['PetalLength'])"
      ],
      "metadata": {
        "id": "NniZKwWcYLKq",
        "outputId": "cda46798-d584-42a3-c447-6f505119a65a",
        "colab": {
          "base_uri": "https://localhost:8080/",
          "height": 0
        }
      },
      "execution_count": 134,
      "outputs": [
        {
          "output_type": "execute_result",
          "data": {
            "text/plain": [
              "<BarContainer object of 3 artists>"
            ]
          },
          "metadata": {},
          "execution_count": 134
        },
        {
          "output_type": "display_data",
          "data": {
            "text/plain": [
              "<Figure size 432x288 with 1 Axes>"
            ],
            "image/png": "[encoded data removed]"
          },
          "metadata": {
            "needs_background": "light"
          }
        }
      ]
    },
    {
      "cell_type": "code",
      "source": [
        "sample_data.reset_index()"
      ],
      "metadata": {
        "id": "tkHRHWEbYraa",
        "outputId": "5a02357a-13bd-4860-fb27-12a6b13f2a5c",
        "colab": {
          "base_uri": "https://localhost:8080/",
          "height": 0
        }
      },
      "execution_count": 135,
      "outputs": [
        {
          "output_type": "execute_result",
          "data": {
            "text/plain": [
              "              Name  SepalLength  SepalWidth  PetalLength  PetalWidth\n",
              "0      Iris-setosa        5.006       3.418        1.464       0.244\n",
              "1  Iris-versicolor        5.936       2.770        4.260       1.326\n",
              "2   Iris-virginica        6.588       2.974        5.552       2.026"
            ],
            "text/html": [
              "\n",
              "  <div id=\"df-c5fc0f2b-c850-462a-a206-f287fb62453f\">\n",
              "    <div class=\"colab-df-container\">\n",
              "      <div>\n",
              "<style scoped>\n",
              "    .dataframe tbody tr th:only-of-type {\n",
              "        vertical-align: middle;\n",
              "    }\n",
              "\n",
              "    .dataframe tbody tr th {\n",
              "        vertical-align: top;\n",
              "    }\n",
              "\n",
              "    .dataframe thead th {\n",
              "        text-align: right;\n",
              "    }\n",
              "</style>\n",
              "<table border=\"1\" class=\"dataframe\">\n",
              "  <thead>\n",
              "    <tr style=\"text-align: right;\">\n",
              "      <th></th>\n",
              "      <th>Name</th>\n",
              "      <th>SepalLength</th>\n",
              "      <th>SepalWidth</th>\n",
              "      <th>PetalLength</th>\n",
              "      <th>PetalWidth</th>\n",
              "    </tr>\n",
              "  </thead>\n",
              "  <tbody>\n",
              "    <tr>\n",
              "      <th>0</th>\n",
              "      <td>Iris-setosa</td>\n",
              "      <td>5.006</td>\n",
              "      <td>3.418</td>\n",
              "      <td>1.464</td>\n",
              "      <td>0.244</td>\n",
              "    </tr>\n",
              "    <tr>\n",
              "      <th>1</th>\n",
              "      <td>Iris-versicolor</td>\n",
              "      <td>5.936</td>\n",
              "      <td>2.770</td>\n",
              "      <td>4.260</td>\n",
              "      <td>1.326</td>\n",
              "    </tr>\n",
              "    <tr>\n",
              "      <th>2</th>\n",
              "      <td>Iris-virginica</td>\n",
              "      <td>6.588</td>\n",
              "      <td>2.974</td>\n",
              "      <td>5.552</td>\n",
              "      <td>2.026</td>\n",
              "    </tr>\n",
              "  </tbody>\n",
              "</table>\n",
              "</div>\n",
              "      <button class=\"colab-df-convert\" onclick=\"convertToInteractive('df-c5fc0f2b-c850-462a-a206-f287fb62453f')\"\n",
              "              title=\"Convert this dataframe to an interactive table.\"\n",
              "              style=\"display:none;\">\n",
              "        \n",
              "  <svg xmlns=\"http://www.w3.org/2000/svg\" height=\"24px\"viewBox=\"0 0 24 24\"\n",
              "       width=\"24px\">\n",
              "    <path d=\"M0 0h24v24H0V0z\" fill=\"none\"/>\n",
              "    <path d=\"M18.56 5.44l.94 2.06.94-2.06 2.06-.94-2.06-.94-.94-2.06-.94 2.06-2.06.94zm-11 1L8.5 8.5l.94-2.06 2.06-.94-2.06-.94L8.5 2.5l-.94 2.06-2.06.94zm10 10l.94 2.06.94-2.06 2.06-.94-2.06-.94-.94-2.06-.94 2.06-2.06.94z\"/><path d=\"M17.41 7.96l-1.37-1.37c-.4-.4-.92-.59-1.43-.59-.52 0-1.04.2-1.43.59L10.3 9.45l-7.72 7.72c-.78.78-.78 2.05 0 2.83L4 21.41c.39.39.9.59 1.41.59.51 0 1.02-.2 1.41-.59l7.78-7.78 2.81-2.81c.8-.78.8-2.07 0-2.86zM5.41 20L4 18.59l7.72-7.72 1.47 1.35L5.41 20z\"/>\n",
              "  </svg>\n",
              "      </button>\n",
              "      \n",
              "  <style>\n",
              "    .colab-df-container {\n",
              "      display:flex;\n",
              "      flex-wrap:wrap;\n",
              "      gap: 12px;\n",
              "    }\n",
              "\n",
              "    .colab-df-convert {\n",
              "      background-color: #E8F0FE;\n",
              "      border: none;\n",
              "      border-radius: 50%;\n",
              "      cursor: pointer;\n",
              "      display: none;\n",
              "      fill: #1967D2;\n",
              "      height: 32px;\n",
              "      padding: 0 0 0 0;\n",
              "      width: 32px;\n",
              "    }\n",
              "\n",
              "    .colab-df-convert:hover {\n",
              "      background-color: #E2EBFA;\n",
              "      box-shadow: 0px 1px 2px rgba(60, 64, 67, 0.3), 0px 1px 3px 1px rgba(60, 64, 67, 0.15);\n",
              "      fill: #174EA6;\n",
              "    }\n",
              "\n",
              "    [theme=dark] .colab-df-convert {\n",
              "      background-color: #3B4455;\n",
              "      fill: #D2E3FC;\n",
              "    }\n",
              "\n",
              "    [theme=dark] .colab-df-convert:hover {\n",
              "      background-color: #434B5C;\n",
              "      box-shadow: 0px 1px 3px 1px rgba(0, 0, 0, 0.15);\n",
              "      filter: drop-shadow(0px 1px 2px rgba(0, 0, 0, 0.3));\n",
              "      fill: #FFFFFF;\n",
              "    }\n",
              "  </style>\n",
              "\n",
              "      <script>\n",
              "        const buttonEl =\n",
              "          document.querySelector('#df-c5fc0f2b-c850-462a-a206-f287fb62453f button.colab-df-convert');\n",
              "        buttonEl.style.display =\n",
              "          google.colab.kernel.accessAllowed ? 'block' : 'none';\n",
              "\n",
              "        async function convertToInteractive(key) {\n",
              "          const element = document.querySelector('#df-c5fc0f2b-c850-462a-a206-f287fb62453f');\n",
              "          const dataTable =\n",
              "            await google.colab.kernel.invokeFunction('convertToInteractive',\n",
              "                                                     [key], {});\n",
              "          if (!dataTable) return;\n",
              "\n",
              "          const docLinkHtml = 'Like what you see? Visit the ' +\n",
              "            '<a target=\"_blank\" href=https://colab.research.google.com/notebooks/data_table.ipynb>data table notebook</a>'\n",
              "            + ' to learn more about interactive tables.';\n",
              "          element.innerHTML = '';\n",
              "          dataTable['output_type'] = 'display_data';\n",
              "          await google.colab.output.renderOutput(dataTable, element);\n",
              "          const docLink = document.createElement('div');\n",
              "          docLink.innerHTML = docLinkHtml;\n",
              "          element.appendChild(docLink);\n",
              "        }\n",
              "      </script>\n",
              "    </div>\n",
              "  </div>\n",
              "  "
            ]
          },
          "metadata": {},
          "execution_count": 135
        }
      ]
    },
    {
      "cell_type": "code",
      "source": [
        "sample_data.reset_index()['Name']"
      ],
      "metadata": {
        "id": "HYcet1QSZAIp",
        "outputId": "2222fd65-c5d5-49bd-b8f2-41428de1e283",
        "colab": {
          "base_uri": "https://localhost:8080/"
        }
      },
      "execution_count": 136,
      "outputs": [
        {
          "output_type": "execute_result",
          "data": {
            "text/plain": [
              "0        Iris-setosa\n",
              "1    Iris-versicolor\n",
              "2     Iris-virginica\n",
              "Name: Name, dtype: object"
            ]
          },
          "metadata": {},
          "execution_count": 136
        }
      ]
    },
    {
      "cell_type": "code",
      "source": [
        "plt.bar([1,2,3],sample_data['PetalLength'])\n",
        "plt.xticks([1,2,3],sample_data.reset_index()['Name'],rotation='vertical')\n",
        "plt.title('Comparison between average petal lendth of 3 Iris Flowers')\n",
        "plt.grid(True)\n",
        "plt.ylabel('size (cm)');"
      ],
      "metadata": {
        "id": "WrnHFR4bZOwj",
        "outputId": "7d3015af-bb84-4000-e6d0-04e219315b4b",
        "colab": {
          "base_uri": "https://localhost:8080/",
          "height": 0
        }
      },
      "execution_count": 137,
      "outputs": [
        {
          "output_type": "display_data",
          "data": {
            "text/plain": [
              "<Figure size 432x288 with 1 Axes>"
            ],
            "image/png": "[encoded data removed]"
          },
          "metadata": {
            "needs_background": "light"
          }
        }
      ]
    },
    {
      "cell_type": "code",
      "source": [
        "plt.bar([1,2,3],sample_data['PetalLength'],color = ['r','g','b'])\n",
        "plt.xticks([1,2,3],sample_data.reset_index()['Name'],rotation='vertical')\n",
        "plt.title('Comparison between average petal lendth of 3 Iris Flowers')\n",
        "plt.grid(True)\n",
        "plt.ylabel('size (cm)');"
      ],
      "metadata": {
        "id": "5A8XG0dbb_zj",
        "outputId": "5cfbeeb4-0231-4c66-f3bb-d594fac435dc",
        "colab": {
          "base_uri": "https://localhost:8080/",
          "height": 0
        }
      },
      "execution_count": 138,
      "outputs": [
        {
          "output_type": "display_data",
          "data": {
            "text/plain": [
              "<Figure size 432x288 with 1 Axes>"
            ],
            "image/png": "[encoded data removed]"
          },
          "metadata": {
            "needs_background": "light"
          }
        }
      ]
    },
    {
      "cell_type": "markdown",
      "source": [
        "### เปรียบเทียบปริมาณ มากกว่า 1 ปริมาณของ object หลาย class"
      ],
      "metadata": {
        "id": "J_PYL0iqdjwp"
      }
    },
    {
      "cell_type": "code",
      "source": [
        "import numpy as np"
      ],
      "metadata": {
        "id": "bLo6qvuTcwGX"
      },
      "execution_count": 139,
      "outputs": []
    },
    {
      "cell_type": "code",
      "source": [
        "width = 0.2\n",
        "\n",
        "plt.bar([1,2],[sample_data['PetalLength'][1],sample_data['PetalWidth'][1]],width,color='g',label='versicolor') #ดอกที่ 2 versicolor\t\n",
        "plt.bar([1-width,2-width],[sample_data['PetalLength'][0],sample_data['PetalWidth'][0]],width,color='r',label='setosa') \n",
        "plt.bar([1+width,2+width],[sample_data['PetalLength'][2],sample_data['PetalWidth'][2]],width,color='b',label='virginica') \n",
        "\n",
        "plt.xticks([1,2],['PetalLength','PetalWidth'])\n",
        "plt.legend();"
      ],
      "metadata": {
        "id": "YKXCQ-6weKWU",
        "outputId": "7dd78695-7f48-437f-ada1-e9f6b1d79a37",
        "colab": {
          "base_uri": "https://localhost:8080/",
          "height": 0
        }
      },
      "execution_count": 140,
      "outputs": [
        {
          "output_type": "display_data",
          "data": {
            "text/plain": [
              "<Figure size 432x288 with 1 Axes>"
            ],
            "image/png": "[encoded data removed]"
          },
          "metadata": {
            "needs_background": "light"
          }
        }
      ]
    },
    {
      "cell_type": "markdown",
      "source": [
        "### นำปริมาณหลายอันมาซ้อนกัน"
      ],
      "metadata": {
        "id": "8yn5fZULjGli"
      }
    },
    {
      "cell_type": "code",
      "source": [
        "plt.bar([1,2,3],sample_data['PetalLength'],color='b',label='Petal Length') #ดอกที่ 2 versicolor\t\n",
        "plt.bar([1,2,3],sample_data['PetalWidth'],bottom = sample_data['PetalLength'],color='r',label='Petal Width')\n",
        "plt.xticks([1,2,3],sample_data.reset_index()['Name'])\n",
        "plt.grid(True,axis='y')\n",
        "plt.legend();"
      ],
      "metadata": {
        "id": "ScuWXxXKgVxS",
        "outputId": "f22afdfe-74a1-4a69-98b0-34a0afcd18d7",
        "colab": {
          "base_uri": "https://localhost:8080/",
          "height": 0
        }
      },
      "execution_count": 141,
      "outputs": [
        {
          "output_type": "display_data",
          "data": {
            "text/plain": [
              "<Figure size 432x288 with 1 Axes>"
            ],
            "image/png": "[encoded data removed]"
          },
          "metadata": {
            "needs_background": "light"
          }
        }
      ]
    },
    {
      "cell_type": "markdown",
      "source": [
        "### bar chart แบบ ตะแคงข้าง"
      ],
      "metadata": {
        "id": "BUxTnCRJnJ2b"
      }
    },
    {
      "cell_type": "code",
      "source": [
        "plt.barh([1,2,3],sample_data['PetalLength'],color='b',label='Petal Length') #ดอกที่ 2 versicolor\t\n",
        "plt.barh([1,2,3],sample_data['PetalWidth'],left = sample_data['PetalLength'],color='r',label='Petal Width')\n",
        "plt.xticks([1,2,3],sample_data.reset_index()['Name'])\n",
        "plt.grid(True,axis='y')\n",
        "plt.legend();"
      ],
      "metadata": {
        "id": "oCbx9gugm-G3",
        "outputId": "e5aa217a-1e62-4c28-f43e-1839670ebe72",
        "colab": {
          "base_uri": "https://localhost:8080/",
          "height": 0
        }
      },
      "execution_count": 142,
      "outputs": [
        {
          "output_type": "display_data",
          "data": {
            "text/plain": [
              "<Figure size 432x288 with 1 Axes>"
            ],
            "image/png": "[encoded data removed]"
          },
          "metadata": {
            "needs_background": "light"
          }
        }
      ]
    },
    {
      "cell_type": "markdown",
      "source": [
        "# HW 7\n",
        "1. plot bar chart เปรัยบเทียบ Sepal Length\t,Sepal Width\t,Petal Length ,Petal Width\n",
        "\n",
        "2. plot bar chart เพื่อเปรียบเทียบขนาดโดยรวมของดอก Iris 3 ชนิด โดยดูจาก Sepal Length\t,Sepal Width\t,Petal Length และ Petal Width\n"
      ],
      "metadata": {
        "id": "LVNa7-4elwcX"
      }
    },
    {
      "cell_type": "code",
      "source": [
        "!wget -q https://github.com/Phonbopit/sarabun-webfont/raw/master/fonts/thsarabunnew-webfont.ttf\n",
        "#โหลดฟ้อนต์\n",
        "!ls\n",
        "import matplotlib as mpl\n",
        "mpl.font_manager.fontManager.addfont('thsarabunnew-webfont.ttf')\n",
        "mpl.rc('font', family='TH Sarabun New')"
      ],
      "metadata": {
        "colab": {
          "base_uri": "https://localhost:8080/"
        },
        "id": "PgvxsL2LwHZS",
        "outputId": "a0b519d6-1abe-47ed-bed4-910ce1967875"
      },
      "execution_count": 143,
      "outputs": [
        {
          "output_type": "stream",
          "name": "stdout",
          "text": [
            "drive  sample_data  thsarabunnew-webfont.ttf  thsarabunnew-webfont.ttf.1\n"
          ]
        }
      ]
    },
    {
      "cell_type": "code",
      "source": [
        "import numpy as np #นำเข้า  numpy โดยใช้ชื่อ np"
      ],
      "metadata": {
        "id": "2OCY2t5VtBX5"
      },
      "execution_count": 144,
      "outputs": []
    },
    {
      "cell_type": "markdown",
      "source": [
        "### 1. plot bar chart เปรัยบเทียบ Sepal Length ,Sepal Width ,Petal Length ,Petal Width"
      ],
      "metadata": {
        "id": "sIvSD9K1ytH3"
      }
    },
    {
      "cell_type": "code",
      "source": [
        "plt.figure(figsize=[10,6]) #กำหนดขนาดของรูปในแนวตั้งและแนวนอน\n",
        "width = 0.2\n",
        "\n",
        "plt.bar([1-width,2-width,3-width,4-width],[sample_data['SepalLength'][0],sample_data['SepalWidth'][0],sample_data['PetalLength'][0],sample_data['PetalWidth'][0]],width,color='#CCCCFF',label='setosa') \n",
        "plt.bar([1,2,3,4],[sample_data['SepalLength'][1],sample_data['SepalWidth'][1],sample_data['PetalLength'][1],sample_data['PetalWidth'][1]],width,color='#9999FF',label='versicolor') #ดอกที่ 2 versicolor\t\n",
        "plt.bar([1+width,2+width,3+width,4+width],[sample_data['SepalLength'][2],sample_data['SepalWidth'][2],sample_data['PetalLength'][2],sample_data['PetalWidth'][2]],width,color='#9966FF',label='virginica') \n",
        "\n",
        "plt.title('plot bar chart เปรียบเทียบ Sepal Length ,Sepal Width ,Petal Length ,Petal Width');\n",
        "plt.ylabel('Size (cm)')\n",
        "plt.xticks([1,2,3,4],['SepalLength','SepalLength','PetalLength','PetalWidth'])\n",
        "plt.legend();"
      ],
      "metadata": {
        "colab": {
          "base_uri": "https://localhost:8080/",
          "height": 0
        },
        "id": "VKbH1EubtBVW",
        "outputId": "36673383-1b79-4382-ac32-2305e04c49a9"
      },
      "execution_count": 145,
      "outputs": [
        {
          "output_type": "display_data",
          "data": {
            "text/plain": [
              "<Figure size 720x432 with 1 Axes>"
            ],
            "image/png": "[encoded data removed]"
          },
          "metadata": {
            "needs_background": "light"
          }
        }
      ]
    },
    {
      "cell_type": "markdown",
      "source": [
        "### 2. plot bar chart เพื่อเปรียบเทียบขนาดโดยรวมของดอก Iris 3 ชนิด โดยดูจาก Sepal Length ,Sepal Width ,Petal Length และ Petal Width"
      ],
      "metadata": {
        "id": "mIzdORP3y5M3"
      }
    },
    {
      "cell_type": "code",
      "source": [
        "plt.figure(figsize=[10,6]) #กำหนดขนาดของรูปในแนวตั้งและแนวนอน\n",
        "width = 0.2\n",
        "\n",
        "plt.bar([1,2,3],sample_data['SepalLength'],color='#9933FF',label='Sepal Length')\n",
        "plt.bar([1,2,3],sample_data['SepalWidth'],bottom = sample_data['SepalLength'],color='#9966FF',label='Sepal Width')\n",
        "plt.bar([1,2,3],sample_data['PetalLength'],bottom = sample_data['SepalLength']+ sample_data['SepalWidth'],color='#9999FF',label='Petal Length') #ดอกที่ 2 versicolor\t\n",
        "plt.bar([1,2,3],sample_data['PetalWidth'],bottom = sample_data['SepalLength'] + sample_data['SepalWidth'] + sample_data['PetalLength'],color='#CCCCFF',label='Petal Width')\n",
        "\n",
        "plt.title('plot bar chart เพื่อเปรียบเทียบขนาดโดยรวมของดอก Iris 3 ชนิด');\n",
        "plt.ylabel('Size (cm)')\n",
        "plt.xticks([1,2,3],sample_data.reset_index()['Name'])\n",
        "plt.legend();"
      ],
      "metadata": {
        "colab": {
          "base_uri": "https://localhost:8080/",
          "height": 0
        },
        "id": "imYGbj7ctBSU",
        "outputId": "faecf191-6472-43c4-ca31-8f2e448e5f10"
      },
      "execution_count": 146,
      "outputs": [
        {
          "output_type": "display_data",
          "data": {
            "text/plain": [
              "<Figure size 720x432 with 1 Axes>"
            ],
            "image/png": "[encoded data removed]"
          },
          "metadata": {
            "needs_background": "light"
          }
        }
      ]
    },
    {
      "cell_type": "markdown",
      "source": [
        "# Histogram\n",
        "\n",
        "แสดงความถี่ของข้อมูล"
      ],
      "metadata": {
        "id": "8HY4BkfIoaDR"
      }
    },
    {
      "cell_type": "code",
      "source": [
        "np.random.seed(2022)\n",
        "\n",
        "x = np.random.randint(1,101,1000)"
      ],
      "metadata": {
        "id": "sXXRQBGCliim"
      },
      "execution_count": 147,
      "outputs": []
    },
    {
      "cell_type": "code",
      "source": [
        "x"
      ],
      "metadata": {
        "id": "fQPbWVitplYx",
        "outputId": "cac2fa12-6476-4a1a-bd8a-45f75dfbdbb3",
        "colab": {
          "base_uri": "https://localhost:8080/"
        }
      },
      "execution_count": 148,
      "outputs": [
        {
          "output_type": "execute_result",
          "data": {
            "text/plain": [
              "array([ 93,  46,  50,  56,  89,  19,  25,  17,  54,  42,  34,  28,  12,\n",
              "        20,  95,  76,  49,  20,  39,  73,  15,  94,  17,  91,  12,  95,\n",
              "        98,   3,  81,  16,  24,  82,  88,  86,  38,  57,  84,  13,  46,\n",
              "        91,  77,  15,  97,  14,  78,  53,  43,  54,  65,  46,  94,  64,\n",
              "        24,  38,  22,  62,  57,  76,  47,   3,  65,  47,  42,  62,  62,\n",
              "        73,  65,  52,  92,  99,  34,  30,  24,  48,  50,  56,  29,  10,\n",
              "        71,  48,  32,  27,   8,  99,  90,  66,  43,  63,  92,  33,  77,\n",
              "         5,  88,  98,  11,  77,  26,  54,  63,  24,  25,  65,  61,  89,\n",
              "        36,   5,  20,  50,  51,  87,  60,   3,  28,  91,  96,  72,  55,\n",
              "         4,  77,  22,  68,  12,  46,  68,  45,  84,  57,  88,  34,  36,\n",
              "        76,  26,  99,  56,   7,  84,   2,  27,  93,  51,  67,  85,  35,\n",
              "        81,  15,  71,  85,  68,  57,  20,  15,  17,  29,  10,  90, 100,\n",
              "        30,  85,  86,   3,  47,  40,  81,  43,  93,  65,   6,  83,  91,\n",
              "        52,  84,   1,  17, 100,  62,  99,   6,  81,  57,   6,  32,  71,\n",
              "         5,  26,  13,  22,  79,  63,  84,  86,  32,  69,  89,  31,  59,\n",
              "        90,  10,  62,   2,  70,  82,  20,  63,  86,  77,  47,  93,  52,\n",
              "        67,  95,  93,  95,  99,  30,   5,  25,  98,  36,  64,  74,   9,\n",
              "         7,  61,  46, 100,  52,  18,  39,  84,  51,  37,  35,  49,  34,\n",
              "        75,   9,  83,  63,  80,   5,  97,  11,  94,  57,  98,  89,  84,\n",
              "        46,  83,  86,  71,  12,  27,  90,  28,  86,  61,   3,  84,  49,\n",
              "        29,   4,  95,  67,  18,  44,  75,  48,  98,  44,  21,  22,  78,\n",
              "        25,  63,  40,  18,  68,   7,  66,  73,  85,  70,  62,  37,  77,\n",
              "        37,  71,  79,  21,  58,  19,  66,  71,  87,  35,  83,  96,  38,\n",
              "        59,  95,  90,  18,  62,  25,   4,  43,  52,  17,  21,  64,  52,\n",
              "        64,  98,  85,  27,  96,  90,  78,  79,  43,  46,  36,  79,   5,\n",
              "        41,  69,  87,  58,  81,  29,  21,  85,  22,  48,  56,  13,   6,\n",
              "        52,  31,  68,  65,  99,  40,  28,  79,  73,   3,  67,  27,  31,\n",
              "        74,  15,  49,  51,  17,  16,  21,  31,  16,  85,  28,  85,  62,\n",
              "        72,  52,  20,  92,  63,   2,  13,  77,  81,   6,  83,  14,  39,\n",
              "        24,  38,  77,  31,  13,   6,  76,  33,  43,  87,  74,  70,  41,\n",
              "        76,  47,   1,  23,  16,  18,   3,  74,   3,  55,  36,  79,  72,\n",
              "        92,   3,  39,  73,  28,  63,  46,  21,  86,  38,  85,  21,  22,\n",
              "        23,  32,   4,  73,  63,  91,  23,  48,  98,  54,  84,  60,   7,\n",
              "        90,  38,  17, 100,  47,   6,  48,  47,  49,  27,  71,  97,   9,\n",
              "        12,  25,  85,  91,  64,  87,  83,  60,  28,  65,  74,  93,  92,\n",
              "        86,  33,  37,  81,   3,  90,  21,  36,  42,  52,  43, 100,   1,\n",
              "        18,  81,  86,   1,  99,  62,  71,  46,  21,  63,  59,  78,  88,\n",
              "         7,  93,  12,  16,  20,  22,  51,   6,  88,  79,  15,  97,  79,\n",
              "        10,  43,   6,  98,  96,  50,  56,  97,  74,  86,  42,  43,  74,\n",
              "        20,  50,  75,  41,  57,  65,  82,  37,  76,  44,  27,  14,  98,\n",
              "        23,  98,   8,  37,  78,  66,  55,  54,  44,  71,  75,  39,  16,\n",
              "        91,  43,  56,  54,   4,  92,  15,  53,  55,   6,  77,  57,  41,\n",
              "        80,   5,  85,  38,  63,  71,  15,  65,  85,  15,  26,   9,   4,\n",
              "        20,  23,  92,  39,  80,  99,  61,  59,  16,  53,  21,  82,   4,\n",
              "         5,  31,  60,  40,  89,  39,  55,  77,  77,  54,  96,   1,  44,\n",
              "        54,  97,  56,  28,   6,  93,  34,  68,   4,  99,  30,  38,  97,\n",
              "        19,  24,  99, 100,  26,   2,  92, 100,   4,  14,  95,  21,  16,\n",
              "        97,  56,  12,  65,  28,  79,  19,  24,  91,  64,  49,  26,  53,\n",
              "        39,  35,  40,  89,  14,  22,  37,  52,  11, 100,  61,  73,  67,\n",
              "        13,  31,   9,  60,  47,  32,  36,  84,  37,  50,  15,  65,  41,\n",
              "        68,  54,  40,  78,  47,  21,   3,   1,  81,  28,   7,  45,  73,\n",
              "        83,  10,  14,  34,  83,  55,  88,  81,  40,  26,  92,  96,  53,\n",
              "        41,  36,  23,  17,  15,  32,  87,  75,  76,   1,  10,  18,  66,\n",
              "        80,  91,  68,  87, 100,  89,  38,   4,  34,  19,  49,  43,  27,\n",
              "        47,  54,  62,  72,  80, 100,  62,  89,  83,  88,   5,  37,  25,\n",
              "        31,   7, 100,  91,  21,  76,  19,  56,  15,  98,  57,  26,  63,\n",
              "        58,   1,  61,  29,  85,  91,   7,  49,  72,  75,  41,  99,  41,\n",
              "        17,  55,  24,  96,  40,  94,  62,  30,  79,  84,  60,  61,  80,\n",
              "        86,  89,  99,  77,  92,  64,  73,  85,  93,  25,  44,  34,  22,\n",
              "        41,  73,  30,  68,  73,  57,  90,   7,  70,  20,  14,  17,  48,\n",
              "        74,  16,  59,  72,  59,   8,  31,  80,  23,  98,   9,  25,  81,\n",
              "        50,  41,  97,  91,  33,  58,  59,  78,  10,  34,  53,  91,  18,\n",
              "        21,  23,  21,  83,  40,   6,  15,  17,  77,  97,  88,  82,  75,\n",
              "        50,  18,  22,   9,  43,  87,  75,   4,  85,  15,  93,  95,  17,\n",
              "        21,  71,   8,  40,  42,  13,  73,   2,  46,  23,  38,  97,  46,\n",
              "        95,  49,  88,  11,  30,  80,  64,  63,  14,  45,  17,  75,  55,\n",
              "        15,  33,  88,  10,  31,  74,  17,  67,  65,  44,  36,  15,  84,\n",
              "        43,  49,  83,  86,  99,  53,  60,  32,  60,  48,  67,  87,  46,\n",
              "        63,  99,  72,  97,  28,   4,  52,   3,  52,  13,  12,  78,  72,\n",
              "        35,  53,  14,  55,   2,  80,  62,  68,  95,  99,  11,  30,  25,\n",
              "        39,  82,  89,  51,  58,  69,  18,  73,  94,  45,  77,  80,   3,\n",
              "        53,  44,  87,  90,  35,  49,  97,  76,   3,  87,  41,  33,  48,\n",
              "         6,  93,   8,  43,  41,  36,  62,  26,  56,  16,  83,  70,  62,\n",
              "        44,  11,  98,  35,   4,  43,  90,  50,  86,  70,  82,  37,  56,\n",
              "        30,  73,  85,  39,  94,  14,  68,  33,  12,  70,  68,   7,  34,\n",
              "        57,   4,  50,  10,  18,  91,  95,  23,  28,  20,  66,   1,  78,\n",
              "        88,  85,  56,  48,   3,  47,  73,  40, 100,   8,  80,   9])"
            ]
          },
          "metadata": {},
          "execution_count": 148
        }
      ]
    },
    {
      "cell_type": "code",
      "source": [
        "histout = plt.hist(x)"
      ],
      "metadata": {
        "id": "_dedHS3epsTU",
        "outputId": "a7897ef0-41d7-4ad8-980b-2622133d6da0",
        "colab": {
          "base_uri": "https://localhost:8080/",
          "height": 0
        }
      },
      "execution_count": 149,
      "outputs": [
        {
          "output_type": "display_data",
          "data": {
            "text/plain": [
              "<Figure size 432x288 with 1 Axes>"
            ],
            "image/png": "[encoded data removed]"
          },
          "metadata": {
            "needs_background": "light"
          }
        }
      ]
    },
    {
      "cell_type": "code",
      "source": [
        "histout"
      ],
      "metadata": {
        "id": "ihicNEEVqFr8",
        "outputId": "8d5808f1-1d14-4844-cded-f238cc6080ac",
        "colab": {
          "base_uri": "https://localhost:8080/"
        }
      },
      "execution_count": 150,
      "outputs": [
        {
          "output_type": "execute_result",
          "data": {
            "text/plain": [
              "(array([ 99., 101.,  97.,  92.,  99.,  89.,  91., 105., 115., 112.]),\n",
              " array([  1. ,  10.9,  20.8,  30.7,  40.6,  50.5,  60.4,  70.3,  80.2,\n",
              "         90.1, 100. ]),\n",
              " <a list of 10 Patch objects>)"
            ]
          },
          "metadata": {},
          "execution_count": 150
        }
      ]
    },
    {
      "cell_type": "code",
      "source": [
        "histout[0]"
      ],
      "metadata": {
        "id": "kn6MSDSasEH2",
        "outputId": "44d03cbe-4345-43e6-c0b9-d4a5956589fa",
        "colab": {
          "base_uri": "https://localhost:8080/"
        }
      },
      "execution_count": 151,
      "outputs": [
        {
          "output_type": "execute_result",
          "data": {
            "text/plain": [
              "array([ 99., 101.,  97.,  92.,  99.,  89.,  91., 105., 115., 112.])"
            ]
          },
          "metadata": {},
          "execution_count": 151
        }
      ]
    },
    {
      "cell_type": "code",
      "source": [
        "histout[1]"
      ],
      "metadata": {
        "id": "Ps8NLhVrsF_2",
        "outputId": "fb65623e-da1c-4b3d-cd91-ea7acb582e55",
        "colab": {
          "base_uri": "https://localhost:8080/"
        }
      },
      "execution_count": 152,
      "outputs": [
        {
          "output_type": "execute_result",
          "data": {
            "text/plain": [
              "array([  1. ,  10.9,  20.8,  30.7,  40.6,  50.5,  60.4,  70.3,  80.2,\n",
              "        90.1, 100. ])"
            ]
          },
          "metadata": {},
          "execution_count": 152
        }
      ]
    },
    {
      "cell_type": "markdown",
      "source": [
        "# Tree map"
      ],
      "metadata": {
        "id": "ASatLTu97tJT"
      }
    },
    {
      "cell_type": "code",
      "source": [
        "!pip install squarify"
      ],
      "metadata": {
        "id": "Nyt6BAJqsHpg",
        "outputId": "e67a302a-ba9c-4a42-a929-b63e83eb853e",
        "colab": {
          "base_uri": "https://localhost:8080/"
        }
      },
      "execution_count": 153,
      "outputs": [
        {
          "output_type": "stream",
          "name": "stdout",
          "text": [
            "Requirement already satisfied: squarify in /usr/local/lib/python3.7/dist-packages (0.4.3)\n"
          ]
        }
      ]
    },
    {
      "cell_type": "code",
      "source": [
        "import matplotlib.pyplot as plt\n",
        "import squarify"
      ],
      "metadata": {
        "id": "JS3zmIF38KkS"
      },
      "execution_count": 154,
      "outputs": []
    },
    {
      "cell_type": "code",
      "source": [
        "data = [500, 250, 60, 120]"
      ],
      "metadata": {
        "id": "JmcAWc6v8U4X"
      },
      "execution_count": 155,
      "outputs": []
    },
    {
      "cell_type": "code",
      "source": [
        "squarify.plot(data)\n",
        "plt.axis('off')"
      ],
      "metadata": {
        "id": "KnA0Qn768kfQ",
        "outputId": "bc85b2e9-b7a9-4789-d0c9-b39f9e234375",
        "colab": {
          "base_uri": "https://localhost:8080/",
          "height": 0
        }
      },
      "execution_count": 156,
      "outputs": [
        {
          "output_type": "execute_result",
          "data": {
            "text/plain": [
              "(0.0, 100.0, 0.0, 100.0)"
            ]
          },
          "metadata": {},
          "execution_count": 156
        },
        {
          "output_type": "display_data",
          "data": {
            "text/plain": [
              "<Figure size 432x288 with 1 Axes>"
            ],
            "image/png": "[encoded data removed]"
          },
          "metadata": {
            "needs_background": "light"
          }
        }
      ]
    },
    {
      "cell_type": "markdown",
      "source": [
        "### ตั้งสี ที่ต้องการ"
      ],
      "metadata": {
        "id": "Pvu6d-iW9QUr"
      }
    },
    {
      "cell_type": "code",
      "source": [
        "data = [500, 250, 60, 120]\n",
        "color = ['red', 'green', 'blue', 'orange']\n",
        "squarify.plot(data,color=color)\n",
        "plt.axis('off')"
      ],
      "metadata": {
        "id": "-U0Bs3eH8lL9",
        "outputId": "a6e05a2b-ec1e-42a2-eac0-29ac281b1a70",
        "colab": {
          "base_uri": "https://localhost:8080/",
          "height": 0
        }
      },
      "execution_count": 157,
      "outputs": [
        {
          "output_type": "execute_result",
          "data": {
            "text/plain": [
              "(0.0, 100.0, 0.0, 100.0)"
            ]
          },
          "metadata": {},
          "execution_count": 157
        },
        {
          "output_type": "display_data",
          "data": {
            "text/plain": [
              "<Figure size 432x288 with 1 Axes>"
            ],
            "image/png": "[encoded data removed]"
          },
          "metadata": {
            "needs_background": "light"
          }
        }
      ]
    },
    {
      "cell_type": "markdown",
      "source": [
        "### เพิ่มชื่อให้กับปริมาณแต่ละตัว"
      ],
      "metadata": {
        "id": "LMCM9ZOB9tWe"
      }
    },
    {
      "cell_type": "code",
      "source": [
        "labels = ['SCI', 'ENG', 'EDU', 'AGI']\n",
        "data = [500, 250, 60, 120]\n",
        "color = ['red', 'green', 'blue', 'orange']\n",
        "squarify.plot(data,color=color, label = labels)\n",
        "plt.axis('off')"
      ],
      "metadata": {
        "id": "W4vGjCbF9bIG",
        "outputId": "6da0e1e3-7348-43b6-dea7-89660c1343dd",
        "colab": {
          "base_uri": "https://localhost:8080/",
          "height": 0
        }
      },
      "execution_count": 158,
      "outputs": [
        {
          "output_type": "execute_result",
          "data": {
            "text/plain": [
              "(0.0, 100.0, 0.0, 100.0)"
            ]
          },
          "metadata": {},
          "execution_count": 158
        },
        {
          "output_type": "display_data",
          "data": {
            "text/plain": [
              "<Figure size 432x288 with 1 Axes>"
            ],
            "image/png": "[encoded data removed]"
          },
          "metadata": {
            "needs_background": "light"
          }
        }
      ]
    },
    {
      "cell_type": "code",
      "source": [
        "labels = ['SCI', 'ENG', 'EDU', 'AGI']\n",
        "data = [500, 250, 60, 120]\n",
        "color = ['red', 'green', 'blue', 'orange']\n",
        "squarify.plot(data,color=color, label = labels,pad=True)\n",
        "plt.axis('off')"
      ],
      "metadata": {
        "id": "GFPgJy4s-OgY",
        "outputId": "ed3d0a3d-67b2-45bf-d831-9e6121260b0c",
        "colab": {
          "base_uri": "https://localhost:8080/",
          "height": 0
        }
      },
      "execution_count": 159,
      "outputs": [
        {
          "output_type": "execute_result",
          "data": {
            "text/plain": [
              "(0.0, 100.0, 0.0, 100.0)"
            ]
          },
          "metadata": {},
          "execution_count": 159
        },
        {
          "output_type": "display_data",
          "data": {
            "text/plain": [
              "<Figure size 432x288 with 1 Axes>"
            ],
            "image/png": "[encoded data removed]"
          },
          "metadata": {
            "needs_background": "light"
          }
        }
      ]
    },
    {
      "cell_type": "markdown",
      "source": [
        "#Group HW2\n",
        "plot tree map ของปรฺมาณผู้ป่วยผู้ติดเชื้อ covid-19 ของแต่ละจังหวัดในประเทศไทยในวันที่ 1-4 มีนาคม 2665"
      ],
      "metadata": {
        "id": "1DP8wLpz-uwe"
      }
    },
    {
      "cell_type": "markdown",
      "source": [
        "Import"
      ],
      "metadata": {
        "id": "t7gBwVG8Bxvx"
      }
    },
    {
      "cell_type": "code",
      "source": [
        "import pandas as pd #นำเข้าฟังชันก์ pandas โยกำหนดให้ชื่อ pd"
      ],
      "metadata": {
        "id": "RpWBVKe3-urJ"
      },
      "execution_count": 160,
      "outputs": []
    },
    {
      "cell_type": "code",
      "source": [
        "import os"
      ],
      "metadata": {
        "id": "8C1D5Dxq-uiM"
      },
      "execution_count": 161,
      "outputs": []
    },
    {
      "cell_type": "code",
      "source": [
        "from google.colab import drive    # เชื่อมต่อกับ google drive ที่เราเก็บข้อมูลไว้\n",
        "drive.mount('/content/drive')\n",
        "path = '/content/drive/My Drive/Data HW 2022'"
      ],
      "metadata": {
        "colab": {
          "base_uri": "https://localhost:8080/"
        },
        "id": "C3m3c_7Y-uch",
        "outputId": "9ee095a6-f54c-41df-b424-45a29c7d074f"
      },
      "execution_count": 162,
      "outputs": [
        {
          "output_type": "stream",
          "name": "stdout",
          "text": [
            "Drive already mounted at /content/drive; to attempt to forcibly remount, call drive.mount(\"/content/drive\", force_remount=True).\n"
          ]
        }
      ]
    },
    {
      "cell_type": "code",
      "source": [
        "data_file_path = os.path.join(path,'confirmed-cases-since-280265.csv')    # ไฟล์ที่เราต้องการ\n",
        "data_df = pd.read_csv(data_file_path)"
      ],
      "metadata": {
        "id": "DFUtUp3K-uRx"
      },
      "execution_count": 163,
      "outputs": []
    },
    {
      "cell_type": "code",
      "source": [
        "data_df"
      ],
      "metadata": {
        "colab": {
          "base_uri": "https://localhost:8080/",
          "height": 423
        },
        "id": "Cx7YL4zrB4-Q",
        "outputId": "7ba26077-54ae-4c8e-961a-68c0387c8b3c"
      },
      "execution_count": 164,
      "outputs": [
        {
          "output_type": "execute_result",
          "data": {
            "text/plain": [
              "            No. announce_date Notified date   sex   age Unit nationality  \\\n",
              "0       2869617     28/2/2022     27/2/2022   ชาย  41.0   ปี    Thailand   \n",
              "1       2869618     28/2/2022     27/2/2022  หญิง  45.0   ปี    Thailand   \n",
              "2       2869619     28/2/2022     27/2/2022  หญิง  40.0   ปี    Thailand   \n",
              "3       2869620     28/2/2022     27/2/2022   ชาย  44.0   ปี    Thailand   \n",
              "4       2869621     28/2/2022     27/2/2022   ชาย  11.0   ปี    Thailand   \n",
              "...         ...           ...           ...   ...   ...  ...         ...   \n",
              "357076  3226693     15/3/2022     14/3/2022   ชาย   NaN  NaN         NaN   \n",
              "357077  3226694     15/3/2022     14/3/2022   ชาย   NaN  NaN         NaN   \n",
              "357078  3226695     15/3/2022     14/3/2022   ชาย   NaN  NaN         NaN   \n",
              "357079  3226696     15/3/2022     14/3/2022   ชาย   NaN  NaN         NaN   \n",
              "357080  3226697     15/3/2022     14/3/2022  หญิง   NaN  NaN         NaN   \n",
              "\n",
              "       province_of_isolation                                         risk  \\\n",
              "0                      พะเยา  สัมผัสใกล้ชิดกับผู้ป่วยยืนยันรายก่อนหน้านี้   \n",
              "1                      พะเยา  สัมผัสใกล้ชิดกับผู้ป่วยยืนยันรายก่อนหน้านี้   \n",
              "2                      พะเยา  สัมผัสใกล้ชิดกับผู้ป่วยยืนยันรายก่อนหน้านี้   \n",
              "3                      พะเยา  สัมผัสใกล้ชิดกับผู้ป่วยยืนยันรายก่อนหน้านี้   \n",
              "4                      พะเยา  สัมผัสใกล้ชิดกับผู้ป่วยยืนยันรายก่อนหน้านี้   \n",
              "...                      ...                                          ...   \n",
              "357076            ปราจีนบุรี                             ทัณฑสถาน/เรือนจำ   \n",
              "357077            ปราจีนบุรี                             ทัณฑสถาน/เรือนจำ   \n",
              "357078            นครราชสีมา                             ทัณฑสถาน/เรือนจำ   \n",
              "357079            นครราชสีมา                             ทัณฑสถาน/เรือนจำ   \n",
              "357080               ขอนแก่น                             ทัณฑสถาน/เรือนจำ   \n",
              "\n",
              "       province_of_onset district_of_onset  \n",
              "0                  พะเยา        เมืองพะเยา  \n",
              "1                  พะเยา        เมืองพะเยา  \n",
              "2                  พะเยา        เมืองพะเยา  \n",
              "3                  พะเยา        เมืองพะเยา  \n",
              "4                  พะเยา        เมืองพะเยา  \n",
              "...                  ...               ...  \n",
              "357076               NaN               NaN  \n",
              "357077               NaN               NaN  \n",
              "357078               NaN               NaN  \n",
              "357079               NaN               NaN  \n",
              "357080               NaN               NaN  \n",
              "\n",
              "[357081 rows x 11 columns]"
            ],
            "text/html": [
              "\n",
              "  <div id=\"df-9ad7271f-f879-4d52-aa31-72a6a94acd14\">\n",
              "    <div class=\"colab-df-container\">\n",
              "      <div>\n",
              "<style scoped>\n",
              "    .dataframe tbody tr th:only-of-type {\n",
              "        vertical-align: middle;\n",
              "    }\n",
              "\n",
              "    .dataframe tbody tr th {\n",
              "        vertical-align: top;\n",
              "    }\n",
              "\n",
              "    .dataframe thead th {\n",
              "        text-align: right;\n",
              "    }\n",
              "</style>\n",
              "<table border=\"1\" class=\"dataframe\">\n",
              "  <thead>\n",
              "    <tr style=\"text-align: right;\">\n",
              "      <th></th>\n",
              "      <th>No.</th>\n",
              "      <th>announce_date</th>\n",
              "      <th>Notified date</th>\n",
              "      <th>sex</th>\n",
              "      <th>age</th>\n",
              "      <th>Unit</th>\n",
              "      <th>nationality</th>\n",
              "      <th>province_of_isolation</th>\n",
              "      <th>risk</th>\n",
              "      <th>province_of_onset</th>\n",
              "      <th>district_of_onset</th>\n",
              "    </tr>\n",
              "  </thead>\n",
              "  <tbody>\n",
              "    <tr>\n",
              "      <th>0</th>\n",
              "      <td>2869617</td>\n",
              "      <td>28/2/2022</td>\n",
              "      <td>27/2/2022</td>\n",
              "      <td>ชาย</td>\n",
              "      <td>41.0</td>\n",
              "      <td>ปี</td>\n",
              "      <td>Thailand</td>\n",
              "      <td>พะเยา</td>\n",
              "      <td>สัมผัสใกล้ชิดกับผู้ป่วยยืนยันรายก่อนหน้านี้</td>\n",
              "      <td>พะเยา</td>\n",
              "      <td>เมืองพะเยา</td>\n",
              "    </tr>\n",
              "    <tr>\n",
              "      <th>1</th>\n",
              "      <td>2869618</td>\n",
              "      <td>28/2/2022</td>\n",
              "      <td>27/2/2022</td>\n",
              "      <td>หญิง</td>\n",
              "      <td>45.0</td>\n",
              "      <td>ปี</td>\n",
              "      <td>Thailand</td>\n",
              "      <td>พะเยา</td>\n",
              "      <td>สัมผัสใกล้ชิดกับผู้ป่วยยืนยันรายก่อนหน้านี้</td>\n",
              "      <td>พะเยา</td>\n",
              "      <td>เมืองพะเยา</td>\n",
              "    </tr>\n",
              "    <tr>\n",
              "      <th>2</th>\n",
              "      <td>2869619</td>\n",
              "      <td>28/2/2022</td>\n",
              "      <td>27/2/2022</td>\n",
              "      <td>หญิง</td>\n",
              "      <td>40.0</td>\n",
              "      <td>ปี</td>\n",
              "      <td>Thailand</td>\n",
              "      <td>พะเยา</td>\n",
              "      <td>สัมผัสใกล้ชิดกับผู้ป่วยยืนยันรายก่อนหน้านี้</td>\n",
              "      <td>พะเยา</td>\n",
              "      <td>เมืองพะเยา</td>\n",
              "    </tr>\n",
              "    <tr>\n",
              "      <th>3</th>\n",
              "      <td>2869620</td>\n",
              "      <td>28/2/2022</td>\n",
              "      <td>27/2/2022</td>\n",
              "      <td>ชาย</td>\n",
              "      <td>44.0</td>\n",
              "      <td>ปี</td>\n",
              "      <td>Thailand</td>\n",
              "      <td>พะเยา</td>\n",
              "      <td>สัมผัสใกล้ชิดกับผู้ป่วยยืนยันรายก่อนหน้านี้</td>\n",
              "      <td>พะเยา</td>\n",
              "      <td>เมืองพะเยา</td>\n",
              "    </tr>\n",
              "    <tr>\n",
              "      <th>4</th>\n",
              "      <td>2869621</td>\n",
              "      <td>28/2/2022</td>\n",
              "      <td>27/2/2022</td>\n",
              "      <td>ชาย</td>\n",
              "      <td>11.0</td>\n",
              "      <td>ปี</td>\n",
              "      <td>Thailand</td>\n",
              "      <td>พะเยา</td>\n",
              "      <td>สัมผัสใกล้ชิดกับผู้ป่วยยืนยันรายก่อนหน้านี้</td>\n",
              "      <td>พะเยา</td>\n",
              "      <td>เมืองพะเยา</td>\n",
              "    </tr>\n",
              "    <tr>\n",
              "      <th>...</th>\n",
              "      <td>...</td>\n",
              "      <td>...</td>\n",
              "      <td>...</td>\n",
              "      <td>...</td>\n",
              "      <td>...</td>\n",
              "      <td>...</td>\n",
              "      <td>...</td>\n",
              "      <td>...</td>\n",
              "      <td>...</td>\n",
              "      <td>...</td>\n",
              "      <td>...</td>\n",
              "    </tr>\n",
              "    <tr>\n",
              "      <th>357076</th>\n",
              "      <td>3226693</td>\n",
              "      <td>15/3/2022</td>\n",
              "      <td>14/3/2022</td>\n",
              "      <td>ชาย</td>\n",
              "      <td>NaN</td>\n",
              "      <td>NaN</td>\n",
              "      <td>NaN</td>\n",
              "      <td>ปราจีนบุรี</td>\n",
              "      <td>ทัณฑสถาน/เรือนจำ</td>\n",
              "      <td>NaN</td>\n",
              "      <td>NaN</td>\n",
              "    </tr>\n",
              "    <tr>\n",
              "      <th>357077</th>\n",
              "      <td>3226694</td>\n",
              "      <td>15/3/2022</td>\n",
              "      <td>14/3/2022</td>\n",
              "      <td>ชาย</td>\n",
              "      <td>NaN</td>\n",
              "      <td>NaN</td>\n",
              "      <td>NaN</td>\n",
              "      <td>ปราจีนบุรี</td>\n",
              "      <td>ทัณฑสถาน/เรือนจำ</td>\n",
              "      <td>NaN</td>\n",
              "      <td>NaN</td>\n",
              "    </tr>\n",
              "    <tr>\n",
              "      <th>357078</th>\n",
              "      <td>3226695</td>\n",
              "      <td>15/3/2022</td>\n",
              "      <td>14/3/2022</td>\n",
              "      <td>ชาย</td>\n",
              "      <td>NaN</td>\n",
              "      <td>NaN</td>\n",
              "      <td>NaN</td>\n",
              "      <td>นครราชสีมา</td>\n",
              "      <td>ทัณฑสถาน/เรือนจำ</td>\n",
              "      <td>NaN</td>\n",
              "      <td>NaN</td>\n",
              "    </tr>\n",
              "    <tr>\n",
              "      <th>357079</th>\n",
              "      <td>3226696</td>\n",
              "      <td>15/3/2022</td>\n",
              "      <td>14/3/2022</td>\n",
              "      <td>ชาย</td>\n",
              "      <td>NaN</td>\n",
              "      <td>NaN</td>\n",
              "      <td>NaN</td>\n",
              "      <td>นครราชสีมา</td>\n",
              "      <td>ทัณฑสถาน/เรือนจำ</td>\n",
              "      <td>NaN</td>\n",
              "      <td>NaN</td>\n",
              "    </tr>\n",
              "    <tr>\n",
              "      <th>357080</th>\n",
              "      <td>3226697</td>\n",
              "      <td>15/3/2022</td>\n",
              "      <td>14/3/2022</td>\n",
              "      <td>หญิง</td>\n",
              "      <td>NaN</td>\n",
              "      <td>NaN</td>\n",
              "      <td>NaN</td>\n",
              "      <td>ขอนแก่น</td>\n",
              "      <td>ทัณฑสถาน/เรือนจำ</td>\n",
              "      <td>NaN</td>\n",
              "      <td>NaN</td>\n",
              "    </tr>\n",
              "  </tbody>\n",
              "</table>\n",
              "<p>357081 rows × 11 columns</p>\n",
              "</div>\n",
              "      <button class=\"colab-df-convert\" onclick=\"convertToInteractive('df-9ad7271f-f879-4d52-aa31-72a6a94acd14')\"\n",
              "              title=\"Convert this dataframe to an interactive table.\"\n",
              "              style=\"display:none;\">\n",
              "        \n",
              "  <svg xmlns=\"http://www.w3.org/2000/svg\" height=\"24px\"viewBox=\"0 0 24 24\"\n",
              "       width=\"24px\">\n",
              "    <path d=\"M0 0h24v24H0V0z\" fill=\"none\"/>\n",
              "    <path d=\"M18.56 5.44l.94 2.06.94-2.06 2.06-.94-2.06-.94-.94-2.06-.94 2.06-2.06.94zm-11 1L8.5 8.5l.94-2.06 2.06-.94-2.06-.94L8.5 2.5l-.94 2.06-2.06.94zm10 10l.94 2.06.94-2.06 2.06-.94-2.06-.94-.94-2.06-.94 2.06-2.06.94z\"/><path d=\"M17.41 7.96l-1.37-1.37c-.4-.4-.92-.59-1.43-.59-.52 0-1.04.2-1.43.59L10.3 9.45l-7.72 7.72c-.78.78-.78 2.05 0 2.83L4 21.41c.39.39.9.59 1.41.59.51 0 1.02-.2 1.41-.59l7.78-7.78 2.81-2.81c.8-.78.8-2.07 0-2.86zM5.41 20L4 18.59l7.72-7.72 1.47 1.35L5.41 20z\"/>\n",
              "  </svg>\n",
              "      </button>\n",
              "      \n",
              "  <style>\n",
              "    .colab-df-container {\n",
              "      display:flex;\n",
              "      flex-wrap:wrap;\n",
              "      gap: 12px;\n",
              "    }\n",
              "\n",
              "    .colab-df-convert {\n",
              "      background-color: #E8F0FE;\n",
              "      border: none;\n",
              "      border-radius: 50%;\n",
              "      cursor: pointer;\n",
              "      display: none;\n",
              "      fill: #1967D2;\n",
              "      height: 32px;\n",
              "      padding: 0 0 0 0;\n",
              "      width: 32px;\n",
              "    }\n",
              "\n",
              "    .colab-df-convert:hover {\n",
              "      background-color: #E2EBFA;\n",
              "      box-shadow: 0px 1px 2px rgba(60, 64, 67, 0.3), 0px 1px 3px 1px rgba(60, 64, 67, 0.15);\n",
              "      fill: #174EA6;\n",
              "    }\n",
              "\n",
              "    [theme=dark] .colab-df-convert {\n",
              "      background-color: #3B4455;\n",
              "      fill: #D2E3FC;\n",
              "    }\n",
              "\n",
              "    [theme=dark] .colab-df-convert:hover {\n",
              "      background-color: #434B5C;\n",
              "      box-shadow: 0px 1px 3px 1px rgba(0, 0, 0, 0.15);\n",
              "      filter: drop-shadow(0px 1px 2px rgba(0, 0, 0, 0.3));\n",
              "      fill: #FFFFFF;\n",
              "    }\n",
              "  </style>\n",
              "\n",
              "      <script>\n",
              "        const buttonEl =\n",
              "          document.querySelector('#df-9ad7271f-f879-4d52-aa31-72a6a94acd14 button.colab-df-convert');\n",
              "        buttonEl.style.display =\n",
              "          google.colab.kernel.accessAllowed ? 'block' : 'none';\n",
              "\n",
              "        async function convertToInteractive(key) {\n",
              "          const element = document.querySelector('#df-9ad7271f-f879-4d52-aa31-72a6a94acd14');\n",
              "          const dataTable =\n",
              "            await google.colab.kernel.invokeFunction('convertToInteractive',\n",
              "                                                     [key], {});\n",
              "          if (!dataTable) return;\n",
              "\n",
              "          const docLinkHtml = 'Like what you see? Visit the ' +\n",
              "            '<a target=\"_blank\" href=https://colab.research.google.com/notebooks/data_table.ipynb>data table notebook</a>'\n",
              "            + ' to learn more about interactive tables.';\n",
              "          element.innerHTML = '';\n",
              "          dataTable['output_type'] = 'display_data';\n",
              "          await google.colab.output.renderOutput(dataTable, element);\n",
              "          const docLink = document.createElement('div');\n",
              "          docLink.innerHTML = docLinkHtml;\n",
              "          element.appendChild(docLink);\n",
              "        }\n",
              "      </script>\n",
              "    </div>\n",
              "  </div>\n",
              "  "
            ]
          },
          "metadata": {},
          "execution_count": 164
        }
      ]
    },
    {
      "cell_type": "markdown",
      "source": [
        "ตรวจสอบค่า Missing"
      ],
      "metadata": {
        "id": "NFV2oPMVF26Z"
      }
    },
    {
      "cell_type": "code",
      "source": [
        "data_df.isnull().any()"
      ],
      "metadata": {
        "colab": {
          "base_uri": "https://localhost:8080/"
        },
        "id": "-6P4oLRcGs3a",
        "outputId": "95e91a1e-ad8b-4346-9498-886863f59a5c"
      },
      "execution_count": 165,
      "outputs": [
        {
          "output_type": "execute_result",
          "data": {
            "text/plain": [
              "No.                      False\n",
              "announce_date            False\n",
              "Notified date            False\n",
              "sex                       True\n",
              "age                       True\n",
              "Unit                      True\n",
              "nationality               True\n",
              "province_of_isolation    False\n",
              "risk                      True\n",
              "province_of_onset         True\n",
              "district_of_onset         True\n",
              "dtype: bool"
            ]
          },
          "metadata": {},
          "execution_count": 165
        }
      ]
    },
    {
      "cell_type": "code",
      "source": [
        "data_df.shape"
      ],
      "metadata": {
        "colab": {
          "base_uri": "https://localhost:8080/"
        },
        "id": "MqOAlv2FF15w",
        "outputId": "e3020631-4675-40d2-896e-70e4281016e5"
      },
      "execution_count": 166,
      "outputs": [
        {
          "output_type": "execute_result",
          "data": {
            "text/plain": [
              "(357081, 11)"
            ]
          },
          "metadata": {},
          "execution_count": 166
        }
      ]
    },
    {
      "cell_type": "code",
      "source": [
        "### function หา % ของข้อมูลที่จะหายไปถ้า .dropna()\n",
        "\n",
        "def loss_data(data):\n",
        "    im = data.shape[0]\n",
        "    jm = data.dropna().shape[0]\n",
        "    km = im - jm\n",
        "    print(f'size before drop = {im}')\n",
        "    print(f'size after drop = {jm}')\n",
        "    print(f'we loss {km*100/im} % of data')"
      ],
      "metadata": {
        "id": "OCp-2nVp2KHF"
      },
      "execution_count": 193,
      "outputs": []
    },
    {
      "cell_type": "code",
      "source": [
        "loss_data(data_df)"
      ],
      "metadata": {
        "id": "oFUG-0lu2AN_",
        "outputId": "bee097fe-2c2a-4522-858d-147192fe7c42",
        "colab": {
          "base_uri": "https://localhost:8080/"
        }
      },
      "execution_count": 194,
      "outputs": [
        {
          "output_type": "stream",
          "name": "stdout",
          "text": [
            "size before drop = 357081\n",
            "size after drop = 272319\n",
            "we loss 23.737471330034364 % of data\n"
          ]
        }
      ]
    },
    {
      "cell_type": "code",
      "source": [
        "data_dropped = data_df.dropna()\n",
        "data_dropped"
      ],
      "metadata": {
        "id": "2CLDJ-Tx3Qcn",
        "outputId": "76714685-634b-4a88-96da-a4f8ecd17b1d",
        "colab": {
          "base_uri": "https://localhost:8080/",
          "height": 423
        }
      },
      "execution_count": 195,
      "outputs": [
        {
          "output_type": "execute_result",
          "data": {
            "text/plain": [
              "            No. announce_date Notified date   sex   age Unit nationality  \\\n",
              "0       2869617     28/2/2022     27/2/2022   ชาย  41.0   ปี    Thailand   \n",
              "1       2869618     28/2/2022     27/2/2022  หญิง  45.0   ปี    Thailand   \n",
              "2       2869619     28/2/2022     27/2/2022  หญิง  40.0   ปี    Thailand   \n",
              "3       2869620     28/2/2022     27/2/2022   ชาย  44.0   ปี    Thailand   \n",
              "4       2869621     28/2/2022     27/2/2022   ชาย  11.0   ปี    Thailand   \n",
              "...         ...           ...           ...   ...   ...  ...         ...   \n",
              "357022  3226639     15/3/2022     14/3/2022  หญิง  66.0   ปี    Thailand   \n",
              "357023  3226640     15/3/2022     14/3/2022  หญิง  49.0   ปี    Thailand   \n",
              "357024  3226641     15/3/2022     14/3/2022  หญิง  19.0   ปี    Thailand   \n",
              "357025  3226642     15/3/2022     14/3/2022   ชาย  66.0   ปี    Thailand   \n",
              "357026  3226643     15/3/2022     14/3/2022   ชาย  46.0   ปี    Thailand   \n",
              "\n",
              "       province_of_isolation                                         risk  \\\n",
              "0                      พะเยา  สัมผัสใกล้ชิดกับผู้ป่วยยืนยันรายก่อนหน้านี้   \n",
              "1                      พะเยา  สัมผัสใกล้ชิดกับผู้ป่วยยืนยันรายก่อนหน้านี้   \n",
              "2                      พะเยา  สัมผัสใกล้ชิดกับผู้ป่วยยืนยันรายก่อนหน้านี้   \n",
              "3                      พะเยา  สัมผัสใกล้ชิดกับผู้ป่วยยืนยันรายก่อนหน้านี้   \n",
              "4                      พะเยา  สัมผัสใกล้ชิดกับผู้ป่วยยืนยันรายก่อนหน้านี้   \n",
              "...                      ...                                          ...   \n",
              "357022         กรุงเทพมหานคร                                        อื่นๆ   \n",
              "357023         กรุงเทพมหานคร                                        อื่นๆ   \n",
              "357024         กรุงเทพมหานคร                                        อื่นๆ   \n",
              "357025         กรุงเทพมหานคร                                        อื่นๆ   \n",
              "357026         กรุงเทพมหานคร                                        อื่นๆ   \n",
              "\n",
              "       province_of_onset district_of_onset  \n",
              "0                  พะเยา        เมืองพะเยา  \n",
              "1                  พะเยา        เมืองพะเยา  \n",
              "2                  พะเยา        เมืองพะเยา  \n",
              "3                  พะเยา        เมืองพะเยา  \n",
              "4                  พะเยา        เมืองพะเยา  \n",
              "...                  ...               ...  \n",
              "357022     กรุงเทพมหานคร          ห้วยขวาง  \n",
              "357023     กรุงเทพมหานคร          ห้วยขวาง  \n",
              "357024     กรุงเทพมหานคร           ราชเทวี  \n",
              "357025     กรุงเทพมหานคร          ลาดพร้าว  \n",
              "357026     กรุงเทพมหานคร          ห้วยขวาง  \n",
              "\n",
              "[272319 rows x 11 columns]"
            ],
            "text/html": [
              "\n",
              "  <div id=\"df-f6d2f1e0-ed64-427a-bca4-088bd496b10c\">\n",
              "    <div class=\"colab-df-container\">\n",
              "      <div>\n",
              "<style scoped>\n",
              "    .dataframe tbody tr th:only-of-type {\n",
              "        vertical-align: middle;\n",
              "    }\n",
              "\n",
              "    .dataframe tbody tr th {\n",
              "        vertical-align: top;\n",
              "    }\n",
              "\n",
              "    .dataframe thead th {\n",
              "        text-align: right;\n",
              "    }\n",
              "</style>\n",
              "<table border=\"1\" class=\"dataframe\">\n",
              "  <thead>\n",
              "    <tr style=\"text-align: right;\">\n",
              "      <th></th>\n",
              "      <th>No.</th>\n",
              "      <th>announce_date</th>\n",
              "      <th>Notified date</th>\n",
              "      <th>sex</th>\n",
              "      <th>age</th>\n",
              "      <th>Unit</th>\n",
              "      <th>nationality</th>\n",
              "      <th>province_of_isolation</th>\n",
              "      <th>risk</th>\n",
              "      <th>province_of_onset</th>\n",
              "      <th>district_of_onset</th>\n",
              "    </tr>\n",
              "  </thead>\n",
              "  <tbody>\n",
              "    <tr>\n",
              "      <th>0</th>\n",
              "      <td>2869617</td>\n",
              "      <td>28/2/2022</td>\n",
              "      <td>27/2/2022</td>\n",
              "      <td>ชาย</td>\n",
              "      <td>41.0</td>\n",
              "      <td>ปี</td>\n",
              "      <td>Thailand</td>\n",
              "      <td>พะเยา</td>\n",
              "      <td>สัมผัสใกล้ชิดกับผู้ป่วยยืนยันรายก่อนหน้านี้</td>\n",
              "      <td>พะเยา</td>\n",
              "      <td>เมืองพะเยา</td>\n",
              "    </tr>\n",
              "    <tr>\n",
              "      <th>1</th>\n",
              "      <td>2869618</td>\n",
              "      <td>28/2/2022</td>\n",
              "      <td>27/2/2022</td>\n",
              "      <td>หญิง</td>\n",
              "      <td>45.0</td>\n",
              "      <td>ปี</td>\n",
              "      <td>Thailand</td>\n",
              "      <td>พะเยา</td>\n",
              "      <td>สัมผัสใกล้ชิดกับผู้ป่วยยืนยันรายก่อนหน้านี้</td>\n",
              "      <td>พะเยา</td>\n",
              "      <td>เมืองพะเยา</td>\n",
              "    </tr>\n",
              "    <tr>\n",
              "      <th>2</th>\n",
              "      <td>2869619</td>\n",
              "      <td>28/2/2022</td>\n",
              "      <td>27/2/2022</td>\n",
              "      <td>หญิง</td>\n",
              "      <td>40.0</td>\n",
              "      <td>ปี</td>\n",
              "      <td>Thailand</td>\n",
              "      <td>พะเยา</td>\n",
              "      <td>สัมผัสใกล้ชิดกับผู้ป่วยยืนยันรายก่อนหน้านี้</td>\n",
              "      <td>พะเยา</td>\n",
              "      <td>เมืองพะเยา</td>\n",
              "    </tr>\n",
              "    <tr>\n",
              "      <th>3</th>\n",
              "      <td>2869620</td>\n",
              "      <td>28/2/2022</td>\n",
              "      <td>27/2/2022</td>\n",
              "      <td>ชาย</td>\n",
              "      <td>44.0</td>\n",
              "      <td>ปี</td>\n",
              "      <td>Thailand</td>\n",
              "      <td>พะเยา</td>\n",
              "      <td>สัมผัสใกล้ชิดกับผู้ป่วยยืนยันรายก่อนหน้านี้</td>\n",
              "      <td>พะเยา</td>\n",
              "      <td>เมืองพะเยา</td>\n",
              "    </tr>\n",
              "    <tr>\n",
              "      <th>4</th>\n",
              "      <td>2869621</td>\n",
              "      <td>28/2/2022</td>\n",
              "      <td>27/2/2022</td>\n",
              "      <td>ชาย</td>\n",
              "      <td>11.0</td>\n",
              "      <td>ปี</td>\n",
              "      <td>Thailand</td>\n",
              "      <td>พะเยา</td>\n",
              "      <td>สัมผัสใกล้ชิดกับผู้ป่วยยืนยันรายก่อนหน้านี้</td>\n",
              "      <td>พะเยา</td>\n",
              "      <td>เมืองพะเยา</td>\n",
              "    </tr>\n",
              "    <tr>\n",
              "      <th>...</th>\n",
              "      <td>...</td>\n",
              "      <td>...</td>\n",
              "      <td>...</td>\n",
              "      <td>...</td>\n",
              "      <td>...</td>\n",
              "      <td>...</td>\n",
              "      <td>...</td>\n",
              "      <td>...</td>\n",
              "      <td>...</td>\n",
              "      <td>...</td>\n",
              "      <td>...</td>\n",
              "    </tr>\n",
              "    <tr>\n",
              "      <th>357022</th>\n",
              "      <td>3226639</td>\n",
              "      <td>15/3/2022</td>\n",
              "      <td>14/3/2022</td>\n",
              "      <td>หญิง</td>\n",
              "      <td>66.0</td>\n",
              "      <td>ปี</td>\n",
              "      <td>Thailand</td>\n",
              "      <td>กรุงเทพมหานคร</td>\n",
              "      <td>อื่นๆ</td>\n",
              "      <td>กรุงเทพมหานคร</td>\n",
              "      <td>ห้วยขวาง</td>\n",
              "    </tr>\n",
              "    <tr>\n",
              "      <th>357023</th>\n",
              "      <td>3226640</td>\n",
              "      <td>15/3/2022</td>\n",
              "      <td>14/3/2022</td>\n",
              "      <td>หญิง</td>\n",
              "      <td>49.0</td>\n",
              "      <td>ปี</td>\n",
              "      <td>Thailand</td>\n",
              "      <td>กรุงเทพมหานคร</td>\n",
              "      <td>อื่นๆ</td>\n",
              "      <td>กรุงเทพมหานคร</td>\n",
              "      <td>ห้วยขวาง</td>\n",
              "    </tr>\n",
              "    <tr>\n",
              "      <th>357024</th>\n",
              "      <td>3226641</td>\n",
              "      <td>15/3/2022</td>\n",
              "      <td>14/3/2022</td>\n",
              "      <td>หญิง</td>\n",
              "      <td>19.0</td>\n",
              "      <td>ปี</td>\n",
              "      <td>Thailand</td>\n",
              "      <td>กรุงเทพมหานคร</td>\n",
              "      <td>อื่นๆ</td>\n",
              "      <td>กรุงเทพมหานคร</td>\n",
              "      <td>ราชเทวี</td>\n",
              "    </tr>\n",
              "    <tr>\n",
              "      <th>357025</th>\n",
              "      <td>3226642</td>\n",
              "      <td>15/3/2022</td>\n",
              "      <td>14/3/2022</td>\n",
              "      <td>ชาย</td>\n",
              "      <td>66.0</td>\n",
              "      <td>ปี</td>\n",
              "      <td>Thailand</td>\n",
              "      <td>กรุงเทพมหานคร</td>\n",
              "      <td>อื่นๆ</td>\n",
              "      <td>กรุงเทพมหานคร</td>\n",
              "      <td>ลาดพร้าว</td>\n",
              "    </tr>\n",
              "    <tr>\n",
              "      <th>357026</th>\n",
              "      <td>3226643</td>\n",
              "      <td>15/3/2022</td>\n",
              "      <td>14/3/2022</td>\n",
              "      <td>ชาย</td>\n",
              "      <td>46.0</td>\n",
              "      <td>ปี</td>\n",
              "      <td>Thailand</td>\n",
              "      <td>กรุงเทพมหานคร</td>\n",
              "      <td>อื่นๆ</td>\n",
              "      <td>กรุงเทพมหานคร</td>\n",
              "      <td>ห้วยขวาง</td>\n",
              "    </tr>\n",
              "  </tbody>\n",
              "</table>\n",
              "<p>272319 rows × 11 columns</p>\n",
              "</div>\n",
              "      <button class=\"colab-df-convert\" onclick=\"convertToInteractive('df-f6d2f1e0-ed64-427a-bca4-088bd496b10c')\"\n",
              "              title=\"Convert this dataframe to an interactive table.\"\n",
              "              style=\"display:none;\">\n",
              "        \n",
              "  <svg xmlns=\"http://www.w3.org/2000/svg\" height=\"24px\"viewBox=\"0 0 24 24\"\n",
              "       width=\"24px\">\n",
              "    <path d=\"M0 0h24v24H0V0z\" fill=\"none\"/>\n",
              "    <path d=\"M18.56 5.44l.94 2.06.94-2.06 2.06-.94-2.06-.94-.94-2.06-.94 2.06-2.06.94zm-11 1L8.5 8.5l.94-2.06 2.06-.94-2.06-.94L8.5 2.5l-.94 2.06-2.06.94zm10 10l.94 2.06.94-2.06 2.06-.94-2.06-.94-.94-2.06-.94 2.06-2.06.94z\"/><path d=\"M17.41 7.96l-1.37-1.37c-.4-.4-.92-.59-1.43-.59-.52 0-1.04.2-1.43.59L10.3 9.45l-7.72 7.72c-.78.78-.78 2.05 0 2.83L4 21.41c.39.39.9.59 1.41.59.51 0 1.02-.2 1.41-.59l7.78-7.78 2.81-2.81c.8-.78.8-2.07 0-2.86zM5.41 20L4 18.59l7.72-7.72 1.47 1.35L5.41 20z\"/>\n",
              "  </svg>\n",
              "      </button>\n",
              "      \n",
              "  <style>\n",
              "    .colab-df-container {\n",
              "      display:flex;\n",
              "      flex-wrap:wrap;\n",
              "      gap: 12px;\n",
              "    }\n",
              "\n",
              "    .colab-df-convert {\n",
              "      background-color: #E8F0FE;\n",
              "      border: none;\n",
              "      border-radius: 50%;\n",
              "      cursor: pointer;\n",
              "      display: none;\n",
              "      fill: #1967D2;\n",
              "      height: 32px;\n",
              "      padding: 0 0 0 0;\n",
              "      width: 32px;\n",
              "    }\n",
              "\n",
              "    .colab-df-convert:hover {\n",
              "      background-color: #E2EBFA;\n",
              "      box-shadow: 0px 1px 2px rgba(60, 64, 67, 0.3), 0px 1px 3px 1px rgba(60, 64, 67, 0.15);\n",
              "      fill: #174EA6;\n",
              "    }\n",
              "\n",
              "    [theme=dark] .colab-df-convert {\n",
              "      background-color: #3B4455;\n",
              "      fill: #D2E3FC;\n",
              "    }\n",
              "\n",
              "    [theme=dark] .colab-df-convert:hover {\n",
              "      background-color: #434B5C;\n",
              "      box-shadow: 0px 1px 3px 1px rgba(0, 0, 0, 0.15);\n",
              "      filter: drop-shadow(0px 1px 2px rgba(0, 0, 0, 0.3));\n",
              "      fill: #FFFFFF;\n",
              "    }\n",
              "  </style>\n",
              "\n",
              "      <script>\n",
              "        const buttonEl =\n",
              "          document.querySelector('#df-f6d2f1e0-ed64-427a-bca4-088bd496b10c button.colab-df-convert');\n",
              "        buttonEl.style.display =\n",
              "          google.colab.kernel.accessAllowed ? 'block' : 'none';\n",
              "\n",
              "        async function convertToInteractive(key) {\n",
              "          const element = document.querySelector('#df-f6d2f1e0-ed64-427a-bca4-088bd496b10c');\n",
              "          const dataTable =\n",
              "            await google.colab.kernel.invokeFunction('convertToInteractive',\n",
              "                                                     [key], {});\n",
              "          if (!dataTable) return;\n",
              "\n",
              "          const docLinkHtml = 'Like what you see? Visit the ' +\n",
              "            '<a target=\"_blank\" href=https://colab.research.google.com/notebooks/data_table.ipynb>data table notebook</a>'\n",
              "            + ' to learn more about interactive tables.';\n",
              "          element.innerHTML = '';\n",
              "          dataTable['output_type'] = 'display_data';\n",
              "          await google.colab.output.renderOutput(dataTable, element);\n",
              "          const docLink = document.createElement('div');\n",
              "          docLink.innerHTML = docLinkHtml;\n",
              "          element.appendChild(docLink);\n",
              "        }\n",
              "      </script>\n",
              "    </div>\n",
              "  </div>\n",
              "  "
            ]
          },
          "metadata": {},
          "execution_count": 195
        }
      ]
    },
    {
      "cell_type": "markdown",
      "source": [
        "เลือกข้อมูลเฉพาะวันที่ 1-4 มีนาคม 2565"
      ],
      "metadata": {
        "id": "d5XjSNrzH1o6"
      }
    },
    {
      "cell_type": "code",
      "source": [
        "covid_data_1 = data_dropped[data_dropped['announce_date']=='1/3/2022'] \n",
        "covid_data_2 = data_dropped[data_dropped['announce_date']=='2/3/2022'] \n",
        "covid_data_3 = data_dropped[data_dropped['announce_date']=='3/3/2022'] \n",
        "covid_data_4 = data_dropped[data_dropped['announce_date']=='4/3/2022'] \n",
        "covid_data_HW = pd.concat([covid_data_1,covid_data_2,covid_data_3,covid_data_4])\n",
        "covid_data_HW"
      ],
      "metadata": {
        "colab": {
          "base_uri": "https://localhost:8080/",
          "height": 423
        },
        "id": "qzPx8W6oI6wz",
        "outputId": "93110d7b-324e-470c-e433-360b14108951"
      },
      "execution_count": 196,
      "outputs": [
        {
          "output_type": "execute_result",
          "data": {
            "text/plain": [
              "            No. announce_date Notified date   sex   age Unit nationality  \\\n",
              "22835   2892452      1/3/2022     28/2/2022  หญิง  47.0   ปี    Thailand   \n",
              "22836   2892453      1/3/2022     28/2/2022  หญิง  34.0   ปี    Thailand   \n",
              "22837   2892454      1/3/2022     28/2/2022  หญิง  11.0   ปี    Thailand   \n",
              "22838   2892455      1/3/2022     28/2/2022  หญิง  20.0   ปี    Thailand   \n",
              "22839   2892456      1/3/2022     28/2/2022  หญิง  16.0   ปี    Thailand   \n",
              "...         ...           ...           ...   ...   ...  ...         ...   \n",
              "112289  2981906      4/3/2022      3/3/2022  หญิง  70.0   ปี    Thailand   \n",
              "112290  2981907      4/3/2022      3/3/2022   ชาย  64.0   ปี    Thailand   \n",
              "112291  2981908      4/3/2022      3/3/2022  หญิง  43.0   ปี    Thailand   \n",
              "112293  2981910      4/3/2022      3/3/2022  หญิง   6.0   ปี    Thailand   \n",
              "112294  2981911      4/3/2022      3/3/2022   ชาย  67.0   ปี    Thailand   \n",
              "\n",
              "       province_of_isolation                                         risk  \\\n",
              "22835                สุโขทัย                                        อื่นๆ   \n",
              "22836                สุโขทัย                                        อื่นๆ   \n",
              "22837                สุโขทัย                                        อื่นๆ   \n",
              "22838                สุโขทัย  สัมผัสใกล้ชิดกับผู้ป่วยยืนยันรายก่อนหน้านี้   \n",
              "22839                สุโขทัย                                        อื่นๆ   \n",
              "...                      ...                                          ...   \n",
              "112289         กรุงเทพมหานคร                                        อื่นๆ   \n",
              "112290         กรุงเทพมหานคร                                        อื่นๆ   \n",
              "112291         กรุงเทพมหานคร                                        อื่นๆ   \n",
              "112293         กรุงเทพมหานคร                                        อื่นๆ   \n",
              "112294         กรุงเทพมหานคร                                        อื่นๆ   \n",
              "\n",
              "       province_of_onset district_of_onset  \n",
              "22835            สุโขทัย      เมืองสุโขทัย  \n",
              "22836            สุโขทัย      เมืองสุโขทัย  \n",
              "22837            สุโขทัย      เมืองสุโขทัย  \n",
              "22838            สุโขทัย      เมืองสุโขทัย  \n",
              "22839            สุโขทัย      เมืองสุโขทัย  \n",
              "...                  ...               ...  \n",
              "112289     กรุงเทพมหานคร           สวนหลวง  \n",
              "112290     กรุงเทพมหานคร           บางซื่อ  \n",
              "112291     กรุงเทพมหานคร         ลาดกระบัง  \n",
              "112293     กรุงเทพมหานคร           ปทุมวัน  \n",
              "112294     กรุงเทพมหานคร         บางคอแหลม  \n",
              "\n",
              "[68152 rows x 11 columns]"
            ],
            "text/html": [
              "\n",
              "  <div id=\"df-703dc37d-efee-4711-bcb7-de32bdbcf741\">\n",
              "    <div class=\"colab-df-container\">\n",
              "      <div>\n",
              "<style scoped>\n",
              "    .dataframe tbody tr th:only-of-type {\n",
              "        vertical-align: middle;\n",
              "    }\n",
              "\n",
              "    .dataframe tbody tr th {\n",
              "        vertical-align: top;\n",
              "    }\n",
              "\n",
              "    .dataframe thead th {\n",
              "        text-align: right;\n",
              "    }\n",
              "</style>\n",
              "<table border=\"1\" class=\"dataframe\">\n",
              "  <thead>\n",
              "    <tr style=\"text-align: right;\">\n",
              "      <th></th>\n",
              "      <th>No.</th>\n",
              "      <th>announce_date</th>\n",
              "      <th>Notified date</th>\n",
              "      <th>sex</th>\n",
              "      <th>age</th>\n",
              "      <th>Unit</th>\n",
              "      <th>nationality</th>\n",
              "      <th>province_of_isolation</th>\n",
              "      <th>risk</th>\n",
              "      <th>province_of_onset</th>\n",
              "      <th>district_of_onset</th>\n",
              "    </tr>\n",
              "  </thead>\n",
              "  <tbody>\n",
              "    <tr>\n",
              "      <th>22835</th>\n",
              "      <td>2892452</td>\n",
              "      <td>1/3/2022</td>\n",
              "      <td>28/2/2022</td>\n",
              "      <td>หญิง</td>\n",
              "      <td>47.0</td>\n",
              "      <td>ปี</td>\n",
              "      <td>Thailand</td>\n",
              "      <td>สุโขทัย</td>\n",
              "      <td>อื่นๆ</td>\n",
              "      <td>สุโขทัย</td>\n",
              "      <td>เมืองสุโขทัย</td>\n",
              "    </tr>\n",
              "    <tr>\n",
              "      <th>22836</th>\n",
              "      <td>2892453</td>\n",
              "      <td>1/3/2022</td>\n",
              "      <td>28/2/2022</td>\n",
              "      <td>หญิง</td>\n",
              "      <td>34.0</td>\n",
              "      <td>ปี</td>\n",
              "      <td>Thailand</td>\n",
              "      <td>สุโขทัย</td>\n",
              "      <td>อื่นๆ</td>\n",
              "      <td>สุโขทัย</td>\n",
              "      <td>เมืองสุโขทัย</td>\n",
              "    </tr>\n",
              "    <tr>\n",
              "      <th>22837</th>\n",
              "      <td>2892454</td>\n",
              "      <td>1/3/2022</td>\n",
              "      <td>28/2/2022</td>\n",
              "      <td>หญิง</td>\n",
              "      <td>11.0</td>\n",
              "      <td>ปี</td>\n",
              "      <td>Thailand</td>\n",
              "      <td>สุโขทัย</td>\n",
              "      <td>อื่นๆ</td>\n",
              "      <td>สุโขทัย</td>\n",
              "      <td>เมืองสุโขทัย</td>\n",
              "    </tr>\n",
              "    <tr>\n",
              "      <th>22838</th>\n",
              "      <td>2892455</td>\n",
              "      <td>1/3/2022</td>\n",
              "      <td>28/2/2022</td>\n",
              "      <td>หญิง</td>\n",
              "      <td>20.0</td>\n",
              "      <td>ปี</td>\n",
              "      <td>Thailand</td>\n",
              "      <td>สุโขทัย</td>\n",
              "      <td>สัมผัสใกล้ชิดกับผู้ป่วยยืนยันรายก่อนหน้านี้</td>\n",
              "      <td>สุโขทัย</td>\n",
              "      <td>เมืองสุโขทัย</td>\n",
              "    </tr>\n",
              "    <tr>\n",
              "      <th>22839</th>\n",
              "      <td>2892456</td>\n",
              "      <td>1/3/2022</td>\n",
              "      <td>28/2/2022</td>\n",
              "      <td>หญิง</td>\n",
              "      <td>16.0</td>\n",
              "      <td>ปี</td>\n",
              "      <td>Thailand</td>\n",
              "      <td>สุโขทัย</td>\n",
              "      <td>อื่นๆ</td>\n",
              "      <td>สุโขทัย</td>\n",
              "      <td>เมืองสุโขทัย</td>\n",
              "    </tr>\n",
              "    <tr>\n",
              "      <th>...</th>\n",
              "      <td>...</td>\n",
              "      <td>...</td>\n",
              "      <td>...</td>\n",
              "      <td>...</td>\n",
              "      <td>...</td>\n",
              "      <td>...</td>\n",
              "      <td>...</td>\n",
              "      <td>...</td>\n",
              "      <td>...</td>\n",
              "      <td>...</td>\n",
              "      <td>...</td>\n",
              "    </tr>\n",
              "    <tr>\n",
              "      <th>112289</th>\n",
              "      <td>2981906</td>\n",
              "      <td>4/3/2022</td>\n",
              "      <td>3/3/2022</td>\n",
              "      <td>หญิง</td>\n",
              "      <td>70.0</td>\n",
              "      <td>ปี</td>\n",
              "      <td>Thailand</td>\n",
              "      <td>กรุงเทพมหานคร</td>\n",
              "      <td>อื่นๆ</td>\n",
              "      <td>กรุงเทพมหานคร</td>\n",
              "      <td>สวนหลวง</td>\n",
              "    </tr>\n",
              "    <tr>\n",
              "      <th>112290</th>\n",
              "      <td>2981907</td>\n",
              "      <td>4/3/2022</td>\n",
              "      <td>3/3/2022</td>\n",
              "      <td>ชาย</td>\n",
              "      <td>64.0</td>\n",
              "      <td>ปี</td>\n",
              "      <td>Thailand</td>\n",
              "      <td>กรุงเทพมหานคร</td>\n",
              "      <td>อื่นๆ</td>\n",
              "      <td>กรุงเทพมหานคร</td>\n",
              "      <td>บางซื่อ</td>\n",
              "    </tr>\n",
              "    <tr>\n",
              "      <th>112291</th>\n",
              "      <td>2981908</td>\n",
              "      <td>4/3/2022</td>\n",
              "      <td>3/3/2022</td>\n",
              "      <td>หญิง</td>\n",
              "      <td>43.0</td>\n",
              "      <td>ปี</td>\n",
              "      <td>Thailand</td>\n",
              "      <td>กรุงเทพมหานคร</td>\n",
              "      <td>อื่นๆ</td>\n",
              "      <td>กรุงเทพมหานคร</td>\n",
              "      <td>ลาดกระบัง</td>\n",
              "    </tr>\n",
              "    <tr>\n",
              "      <th>112293</th>\n",
              "      <td>2981910</td>\n",
              "      <td>4/3/2022</td>\n",
              "      <td>3/3/2022</td>\n",
              "      <td>หญิง</td>\n",
              "      <td>6.0</td>\n",
              "      <td>ปี</td>\n",
              "      <td>Thailand</td>\n",
              "      <td>กรุงเทพมหานคร</td>\n",
              "      <td>อื่นๆ</td>\n",
              "      <td>กรุงเทพมหานคร</td>\n",
              "      <td>ปทุมวัน</td>\n",
              "    </tr>\n",
              "    <tr>\n",
              "      <th>112294</th>\n",
              "      <td>2981911</td>\n",
              "      <td>4/3/2022</td>\n",
              "      <td>3/3/2022</td>\n",
              "      <td>ชาย</td>\n",
              "      <td>67.0</td>\n",
              "      <td>ปี</td>\n",
              "      <td>Thailand</td>\n",
              "      <td>กรุงเทพมหานคร</td>\n",
              "      <td>อื่นๆ</td>\n",
              "      <td>กรุงเทพมหานคร</td>\n",
              "      <td>บางคอแหลม</td>\n",
              "    </tr>\n",
              "  </tbody>\n",
              "</table>\n",
              "<p>68152 rows × 11 columns</p>\n",
              "</div>\n",
              "      <button class=\"colab-df-convert\" onclick=\"convertToInteractive('df-703dc37d-efee-4711-bcb7-de32bdbcf741')\"\n",
              "              title=\"Convert this dataframe to an interactive table.\"\n",
              "              style=\"display:none;\">\n",
              "        \n",
              "  <svg xmlns=\"http://www.w3.org/2000/svg\" height=\"24px\"viewBox=\"0 0 24 24\"\n",
              "       width=\"24px\">\n",
              "    <path d=\"M0 0h24v24H0V0z\" fill=\"none\"/>\n",
              "    <path d=\"M18.56 5.44l.94 2.06.94-2.06 2.06-.94-2.06-.94-.94-2.06-.94 2.06-2.06.94zm-11 1L8.5 8.5l.94-2.06 2.06-.94-2.06-.94L8.5 2.5l-.94 2.06-2.06.94zm10 10l.94 2.06.94-2.06 2.06-.94-2.06-.94-.94-2.06-.94 2.06-2.06.94z\"/><path d=\"M17.41 7.96l-1.37-1.37c-.4-.4-.92-.59-1.43-.59-.52 0-1.04.2-1.43.59L10.3 9.45l-7.72 7.72c-.78.78-.78 2.05 0 2.83L4 21.41c.39.39.9.59 1.41.59.51 0 1.02-.2 1.41-.59l7.78-7.78 2.81-2.81c.8-.78.8-2.07 0-2.86zM5.41 20L4 18.59l7.72-7.72 1.47 1.35L5.41 20z\"/>\n",
              "  </svg>\n",
              "      </button>\n",
              "      \n",
              "  <style>\n",
              "    .colab-df-container {\n",
              "      display:flex;\n",
              "      flex-wrap:wrap;\n",
              "      gap: 12px;\n",
              "    }\n",
              "\n",
              "    .colab-df-convert {\n",
              "      background-color: #E8F0FE;\n",
              "      border: none;\n",
              "      border-radius: 50%;\n",
              "      cursor: pointer;\n",
              "      display: none;\n",
              "      fill: #1967D2;\n",
              "      height: 32px;\n",
              "      padding: 0 0 0 0;\n",
              "      width: 32px;\n",
              "    }\n",
              "\n",
              "    .colab-df-convert:hover {\n",
              "      background-color: #E2EBFA;\n",
              "      box-shadow: 0px 1px 2px rgba(60, 64, 67, 0.3), 0px 1px 3px 1px rgba(60, 64, 67, 0.15);\n",
              "      fill: #174EA6;\n",
              "    }\n",
              "\n",
              "    [theme=dark] .colab-df-convert {\n",
              "      background-color: #3B4455;\n",
              "      fill: #D2E3FC;\n",
              "    }\n",
              "\n",
              "    [theme=dark] .colab-df-convert:hover {\n",
              "      background-color: #434B5C;\n",
              "      box-shadow: 0px 1px 3px 1px rgba(0, 0, 0, 0.15);\n",
              "      filter: drop-shadow(0px 1px 2px rgba(0, 0, 0, 0.3));\n",
              "      fill: #FFFFFF;\n",
              "    }\n",
              "  </style>\n",
              "\n",
              "      <script>\n",
              "        const buttonEl =\n",
              "          document.querySelector('#df-703dc37d-efee-4711-bcb7-de32bdbcf741 button.colab-df-convert');\n",
              "        buttonEl.style.display =\n",
              "          google.colab.kernel.accessAllowed ? 'block' : 'none';\n",
              "\n",
              "        async function convertToInteractive(key) {\n",
              "          const element = document.querySelector('#df-703dc37d-efee-4711-bcb7-de32bdbcf741');\n",
              "          const dataTable =\n",
              "            await google.colab.kernel.invokeFunction('convertToInteractive',\n",
              "                                                     [key], {});\n",
              "          if (!dataTable) return;\n",
              "\n",
              "          const docLinkHtml = 'Like what you see? Visit the ' +\n",
              "            '<a target=\"_blank\" href=https://colab.research.google.com/notebooks/data_table.ipynb>data table notebook</a>'\n",
              "            + ' to learn more about interactive tables.';\n",
              "          element.innerHTML = '';\n",
              "          dataTable['output_type'] = 'display_data';\n",
              "          await google.colab.output.renderOutput(dataTable, element);\n",
              "          const docLink = document.createElement('div');\n",
              "          docLink.innerHTML = docLinkHtml;\n",
              "          element.appendChild(docLink);\n",
              "        }\n",
              "      </script>\n",
              "    </div>\n",
              "  </div>\n",
              "  "
            ]
          },
          "metadata": {},
          "execution_count": 196
        }
      ]
    },
    {
      "cell_type": "code",
      "source": [
        "data_gb = covid_data_HW.groupby('province_of_isolation').size().reset_index(name='จำนวนผู้ติดเชื้อ')  ### สร้างตารางที่รวมจำนวนผู้ป่วยในแต่ละจังหวัด\n",
        "data_gb"
      ],
      "metadata": {
        "colab": {
          "base_uri": "https://localhost:8080/",
          "height": 423
        },
        "id": "KtkC-9gWMFkQ",
        "outputId": "0ecc65a3-e85f-45ef-8c2d-344f49df241a"
      },
      "execution_count": 200,
      "outputs": [
        {
          "output_type": "execute_result",
          "data": {
            "text/plain": [
              "   province_of_isolation  จำนวนผู้ติดเชื้อ\n",
              "0                 กระบี่               566\n",
              "1          กรุงเทพมหานคร              8228\n",
              "2              กาญจนบุรี               454\n",
              "3              กาฬสินธุ์               780\n",
              "4              กำแพงเพชร               727\n",
              "..                   ...               ...\n",
              "68              เพชรบุรี               515\n",
              "69             เพชรบูรณ์               511\n",
              "70                   เลย               281\n",
              "71                  แพร่               125\n",
              "72            แม่ฮ่องสอน                 7\n",
              "\n",
              "[73 rows x 2 columns]"
            ],
            "text/html": [
              "\n",
              "  <div id=\"df-eb1579d4-84d0-4876-96ae-47a8fd69d98e\">\n",
              "    <div class=\"colab-df-container\">\n",
              "      <div>\n",
              "<style scoped>\n",
              "    .dataframe tbody tr th:only-of-type {\n",
              "        vertical-align: middle;\n",
              "    }\n",
              "\n",
              "    .dataframe tbody tr th {\n",
              "        vertical-align: top;\n",
              "    }\n",
              "\n",
              "    .dataframe thead th {\n",
              "        text-align: right;\n",
              "    }\n",
              "</style>\n",
              "<table border=\"1\" class=\"dataframe\">\n",
              "  <thead>\n",
              "    <tr style=\"text-align: right;\">\n",
              "      <th></th>\n",
              "      <th>province_of_isolation</th>\n",
              "      <th>จำนวนผู้ติดเชื้อ</th>\n",
              "    </tr>\n",
              "  </thead>\n",
              "  <tbody>\n",
              "    <tr>\n",
              "      <th>0</th>\n",
              "      <td>กระบี่</td>\n",
              "      <td>566</td>\n",
              "    </tr>\n",
              "    <tr>\n",
              "      <th>1</th>\n",
              "      <td>กรุงเทพมหานคร</td>\n",
              "      <td>8228</td>\n",
              "    </tr>\n",
              "    <tr>\n",
              "      <th>2</th>\n",
              "      <td>กาญจนบุรี</td>\n",
              "      <td>454</td>\n",
              "    </tr>\n",
              "    <tr>\n",
              "      <th>3</th>\n",
              "      <td>กาฬสินธุ์</td>\n",
              "      <td>780</td>\n",
              "    </tr>\n",
              "    <tr>\n",
              "      <th>4</th>\n",
              "      <td>กำแพงเพชร</td>\n",
              "      <td>727</td>\n",
              "    </tr>\n",
              "    <tr>\n",
              "      <th>...</th>\n",
              "      <td>...</td>\n",
              "      <td>...</td>\n",
              "    </tr>\n",
              "    <tr>\n",
              "      <th>68</th>\n",
              "      <td>เพชรบุรี</td>\n",
              "      <td>515</td>\n",
              "    </tr>\n",
              "    <tr>\n",
              "      <th>69</th>\n",
              "      <td>เพชรบูรณ์</td>\n",
              "      <td>511</td>\n",
              "    </tr>\n",
              "    <tr>\n",
              "      <th>70</th>\n",
              "      <td>เลย</td>\n",
              "      <td>281</td>\n",
              "    </tr>\n",
              "    <tr>\n",
              "      <th>71</th>\n",
              "      <td>แพร่</td>\n",
              "      <td>125</td>\n",
              "    </tr>\n",
              "    <tr>\n",
              "      <th>72</th>\n",
              "      <td>แม่ฮ่องสอน</td>\n",
              "      <td>7</td>\n",
              "    </tr>\n",
              "  </tbody>\n",
              "</table>\n",
              "<p>73 rows × 2 columns</p>\n",
              "</div>\n",
              "      <button class=\"colab-df-convert\" onclick=\"convertToInteractive('df-eb1579d4-84d0-4876-96ae-47a8fd69d98e')\"\n",
              "              title=\"Convert this dataframe to an interactive table.\"\n",
              "              style=\"display:none;\">\n",
              "        \n",
              "  <svg xmlns=\"http://www.w3.org/2000/svg\" height=\"24px\"viewBox=\"0 0 24 24\"\n",
              "       width=\"24px\">\n",
              "    <path d=\"M0 0h24v24H0V0z\" fill=\"none\"/>\n",
              "    <path d=\"M18.56 5.44l.94 2.06.94-2.06 2.06-.94-2.06-.94-.94-2.06-.94 2.06-2.06.94zm-11 1L8.5 8.5l.94-2.06 2.06-.94-2.06-.94L8.5 2.5l-.94 2.06-2.06.94zm10 10l.94 2.06.94-2.06 2.06-.94-2.06-.94-.94-2.06-.94 2.06-2.06.94z\"/><path d=\"M17.41 7.96l-1.37-1.37c-.4-.4-.92-.59-1.43-.59-.52 0-1.04.2-1.43.59L10.3 9.45l-7.72 7.72c-.78.78-.78 2.05 0 2.83L4 21.41c.39.39.9.59 1.41.59.51 0 1.02-.2 1.41-.59l7.78-7.78 2.81-2.81c.8-.78.8-2.07 0-2.86zM5.41 20L4 18.59l7.72-7.72 1.47 1.35L5.41 20z\"/>\n",
              "  </svg>\n",
              "      </button>\n",
              "      \n",
              "  <style>\n",
              "    .colab-df-container {\n",
              "      display:flex;\n",
              "      flex-wrap:wrap;\n",
              "      gap: 12px;\n",
              "    }\n",
              "\n",
              "    .colab-df-convert {\n",
              "      background-color: #E8F0FE;\n",
              "      border: none;\n",
              "      border-radius: 50%;\n",
              "      cursor: pointer;\n",
              "      display: none;\n",
              "      fill: #1967D2;\n",
              "      height: 32px;\n",
              "      padding: 0 0 0 0;\n",
              "      width: 32px;\n",
              "    }\n",
              "\n",
              "    .colab-df-convert:hover {\n",
              "      background-color: #E2EBFA;\n",
              "      box-shadow: 0px 1px 2px rgba(60, 64, 67, 0.3), 0px 1px 3px 1px rgba(60, 64, 67, 0.15);\n",
              "      fill: #174EA6;\n",
              "    }\n",
              "\n",
              "    [theme=dark] .colab-df-convert {\n",
              "      background-color: #3B4455;\n",
              "      fill: #D2E3FC;\n",
              "    }\n",
              "\n",
              "    [theme=dark] .colab-df-convert:hover {\n",
              "      background-color: #434B5C;\n",
              "      box-shadow: 0px 1px 3px 1px rgba(0, 0, 0, 0.15);\n",
              "      filter: drop-shadow(0px 1px 2px rgba(0, 0, 0, 0.3));\n",
              "      fill: #FFFFFF;\n",
              "    }\n",
              "  </style>\n",
              "\n",
              "      <script>\n",
              "        const buttonEl =\n",
              "          document.querySelector('#df-eb1579d4-84d0-4876-96ae-47a8fd69d98e button.colab-df-convert');\n",
              "        buttonEl.style.display =\n",
              "          google.colab.kernel.accessAllowed ? 'block' : 'none';\n",
              "\n",
              "        async function convertToInteractive(key) {\n",
              "          const element = document.querySelector('#df-eb1579d4-84d0-4876-96ae-47a8fd69d98e');\n",
              "          const dataTable =\n",
              "            await google.colab.kernel.invokeFunction('convertToInteractive',\n",
              "                                                     [key], {});\n",
              "          if (!dataTable) return;\n",
              "\n",
              "          const docLinkHtml = 'Like what you see? Visit the ' +\n",
              "            '<a target=\"_blank\" href=https://colab.research.google.com/notebooks/data_table.ipynb>data table notebook</a>'\n",
              "            + ' to learn more about interactive tables.';\n",
              "          element.innerHTML = '';\n",
              "          dataTable['output_type'] = 'display_data';\n",
              "          await google.colab.output.renderOutput(dataTable, element);\n",
              "          const docLink = document.createElement('div');\n",
              "          docLink.innerHTML = docLinkHtml;\n",
              "          element.appendChild(docLink);\n",
              "        }\n",
              "      </script>\n",
              "    </div>\n",
              "  </div>\n",
              "  "
            ]
          },
          "metadata": {},
          "execution_count": 200
        }
      ]
    },
    {
      "cell_type": "code",
      "source": [
        "fig = plt.gcf() \n",
        "fig.set_size_inches(22, 12) ### กำหนดขนาดของกราฟ (หน่วย : นิ้ว)\n",
        "\n",
        "squarify.plot(data_gb['จำนวนผู้ติดเชื้อ'],label =data_gb['province_of_isolation'],pad = True) # data คือ จำนวนผู้ตืดเชื้อ โดยที่ label จาก province_of_isolation \n",
        "\n",
        "plt.axis('off') # ลบแกน x,y\n",
        "plt.title('จำนวนผู้ติดเชื้อในแต่ละจังหวัด ตั้งแต่วันที่ 1-4 มีนาคม 2565',fontsize=20,color='b');"
      ],
      "metadata": {
        "colab": {
          "base_uri": "https://localhost:8080/",
          "height": 715
        },
        "id": "plw82YP8M63m",
        "outputId": "7059f4d2-11a4-4aca-961d-30b66d25ddbb"
      },
      "execution_count": 201,
      "outputs": [
        {
          "output_type": "display_data",
          "data": {
            "text/plain": [
              "<Figure size 1584x864 with 1 Axes>"
            ],
            "image/png": "[encoded data removed]"
          },
          "metadata": {
            "needs_background": "light"
          }
        }
      ]
    },
    {
      "cell_type": "markdown",
      "source": [
        "# Spyder (redar) Chat"
      ],
      "metadata": {
        "id": "CPvmWmESAnVp"
      }
    },
    {
      "cell_type": "code",
      "source": [
        "import numpy as np\n",
        "import pandas as pd  #import pandas มาเพราะข้อมูลจะเกี่ยวกับตาราง\n",
        "\n",
        "import matplotlib.pyplot as plt\n",
        "from math import pi #import math มาเนื่องจากเกี่ยวกับวงกลมนำมาใช้เพื่อดึงค่าพาย"
      ],
      "metadata": {
        "id": "pkv53_5I-i9X"
      },
      "execution_count": 170,
      "outputs": []
    },
    {
      "cell_type": "code",
      "source": [
        "data = {'client_id' : ['c1' , 'c2' , 'c3' , 'c4'],\n",
        "             'Math' : [10,5,4,7],\n",
        "             'Eng' : [7,1,3,5],\n",
        "             'Friendly' : [4,8,10,4],\n",
        "             'Look' : [4,8,7,6],\n",
        "             'Money' : [2,10,5,9]}\n",
        "df = pd.DataFrame.from_dict(data)\n",
        "df         "
      ],
      "metadata": {
        "id": "aMxlu6fhCAF_",
        "outputId": "91aaf820-7f6b-4432-981b-30a84cd38615",
        "colab": {
          "base_uri": "https://localhost:8080/",
          "height": 0
        }
      },
      "execution_count": 171,
      "outputs": [
        {
          "output_type": "execute_result",
          "data": {
            "text/plain": [
              "  client_id  Math  Eng  Friendly  Look  Money\n",
              "0        c1    10    7         4     4      2\n",
              "1        c2     5    1         8     8     10\n",
              "2        c3     4    3        10     7      5\n",
              "3        c4     7    5         4     6      9"
            ],
            "text/html": [
              "\n",
              "  <div id=\"df-60d83f9f-7f0b-442f-811d-e9d36e218b7c\">\n",
              "    <div class=\"colab-df-container\">\n",
              "      <div>\n",
              "<style scoped>\n",
              "    .dataframe tbody tr th:only-of-type {\n",
              "        vertical-align: middle;\n",
              "    }\n",
              "\n",
              "    .dataframe tbody tr th {\n",
              "        vertical-align: top;\n",
              "    }\n",
              "\n",
              "    .dataframe thead th {\n",
              "        text-align: right;\n",
              "    }\n",
              "</style>\n",
              "<table border=\"1\" class=\"dataframe\">\n",
              "  <thead>\n",
              "    <tr style=\"text-align: right;\">\n",
              "      <th></th>\n",
              "      <th>client_id</th>\n",
              "      <th>Math</th>\n",
              "      <th>Eng</th>\n",
              "      <th>Friendly</th>\n",
              "      <th>Look</th>\n",
              "      <th>Money</th>\n",
              "    </tr>\n",
              "  </thead>\n",
              "  <tbody>\n",
              "    <tr>\n",
              "      <th>0</th>\n",
              "      <td>c1</td>\n",
              "      <td>10</td>\n",
              "      <td>7</td>\n",
              "      <td>4</td>\n",
              "      <td>4</td>\n",
              "      <td>2</td>\n",
              "    </tr>\n",
              "    <tr>\n",
              "      <th>1</th>\n",
              "      <td>c2</td>\n",
              "      <td>5</td>\n",
              "      <td>1</td>\n",
              "      <td>8</td>\n",
              "      <td>8</td>\n",
              "      <td>10</td>\n",
              "    </tr>\n",
              "    <tr>\n",
              "      <th>2</th>\n",
              "      <td>c3</td>\n",
              "      <td>4</td>\n",
              "      <td>3</td>\n",
              "      <td>10</td>\n",
              "      <td>7</td>\n",
              "      <td>5</td>\n",
              "    </tr>\n",
              "    <tr>\n",
              "      <th>3</th>\n",
              "      <td>c4</td>\n",
              "      <td>7</td>\n",
              "      <td>5</td>\n",
              "      <td>4</td>\n",
              "      <td>6</td>\n",
              "      <td>9</td>\n",
              "    </tr>\n",
              "  </tbody>\n",
              "</table>\n",
              "</div>\n",
              "      <button class=\"colab-df-convert\" onclick=\"convertToInteractive('df-60d83f9f-7f0b-442f-811d-e9d36e218b7c')\"\n",
              "              title=\"Convert this dataframe to an interactive table.\"\n",
              "              style=\"display:none;\">\n",
              "        \n",
              "  <svg xmlns=\"http://www.w3.org/2000/svg\" height=\"24px\"viewBox=\"0 0 24 24\"\n",
              "       width=\"24px\">\n",
              "    <path d=\"M0 0h24v24H0V0z\" fill=\"none\"/>\n",
              "    <path d=\"M18.56 5.44l.94 2.06.94-2.06 2.06-.94-2.06-.94-.94-2.06-.94 2.06-2.06.94zm-11 1L8.5 8.5l.94-2.06 2.06-.94-2.06-.94L8.5 2.5l-.94 2.06-2.06.94zm10 10l.94 2.06.94-2.06 2.06-.94-2.06-.94-.94-2.06-.94 2.06-2.06.94z\"/><path d=\"M17.41 7.96l-1.37-1.37c-.4-.4-.92-.59-1.43-.59-.52 0-1.04.2-1.43.59L10.3 9.45l-7.72 7.72c-.78.78-.78 2.05 0 2.83L4 21.41c.39.39.9.59 1.41.59.51 0 1.02-.2 1.41-.59l7.78-7.78 2.81-2.81c.8-.78.8-2.07 0-2.86zM5.41 20L4 18.59l7.72-7.72 1.47 1.35L5.41 20z\"/>\n",
              "  </svg>\n",
              "      </button>\n",
              "      \n",
              "  <style>\n",
              "    .colab-df-container {\n",
              "      display:flex;\n",
              "      flex-wrap:wrap;\n",
              "      gap: 12px;\n",
              "    }\n",
              "\n",
              "    .colab-df-convert {\n",
              "      background-color: #E8F0FE;\n",
              "      border: none;\n",
              "      border-radius: 50%;\n",
              "      cursor: pointer;\n",
              "      display: none;\n",
              "      fill: #1967D2;\n",
              "      height: 32px;\n",
              "      padding: 0 0 0 0;\n",
              "      width: 32px;\n",
              "    }\n",
              "\n",
              "    .colab-df-convert:hover {\n",
              "      background-color: #E2EBFA;\n",
              "      box-shadow: 0px 1px 2px rgba(60, 64, 67, 0.3), 0px 1px 3px 1px rgba(60, 64, 67, 0.15);\n",
              "      fill: #174EA6;\n",
              "    }\n",
              "\n",
              "    [theme=dark] .colab-df-convert {\n",
              "      background-color: #3B4455;\n",
              "      fill: #D2E3FC;\n",
              "    }\n",
              "\n",
              "    [theme=dark] .colab-df-convert:hover {\n",
              "      background-color: #434B5C;\n",
              "      box-shadow: 0px 1px 3px 1px rgba(0, 0, 0, 0.15);\n",
              "      filter: drop-shadow(0px 1px 2px rgba(0, 0, 0, 0.3));\n",
              "      fill: #FFFFFF;\n",
              "    }\n",
              "  </style>\n",
              "\n",
              "      <script>\n",
              "        const buttonEl =\n",
              "          document.querySelector('#df-60d83f9f-7f0b-442f-811d-e9d36e218b7c button.colab-df-convert');\n",
              "        buttonEl.style.display =\n",
              "          google.colab.kernel.accessAllowed ? 'block' : 'none';\n",
              "\n",
              "        async function convertToInteractive(key) {\n",
              "          const element = document.querySelector('#df-60d83f9f-7f0b-442f-811d-e9d36e218b7c');\n",
              "          const dataTable =\n",
              "            await google.colab.kernel.invokeFunction('convertToInteractive',\n",
              "                                                     [key], {});\n",
              "          if (!dataTable) return;\n",
              "\n",
              "          const docLinkHtml = 'Like what you see? Visit the ' +\n",
              "            '<a target=\"_blank\" href=https://colab.research.google.com/notebooks/data_table.ipynb>data table notebook</a>'\n",
              "            + ' to learn more about interactive tables.';\n",
              "          element.innerHTML = '';\n",
              "          dataTable['output_type'] = 'display_data';\n",
              "          await google.colab.output.renderOutput(dataTable, element);\n",
              "          const docLink = document.createElement('div');\n",
              "          docLink.innerHTML = docLinkHtml;\n",
              "          element.appendChild(docLink);\n",
              "        }\n",
              "      </script>\n",
              "    </div>\n",
              "  </div>\n",
              "  "
            ]
          },
          "metadata": {},
          "execution_count": 171
        }
      ]
    },
    {
      "cell_type": "code",
      "source": [
        "categories = list(df.columns[1:])\n",
        "categories"
      ],
      "metadata": {
        "id": "ACyCwWmlDTC9",
        "outputId": "0410cdd1-d492-4bd6-e731-c8c271265a8c",
        "colab": {
          "base_uri": "https://localhost:8080/"
        }
      },
      "execution_count": 172,
      "outputs": [
        {
          "output_type": "execute_result",
          "data": {
            "text/plain": [
              "['Math', 'Eng', 'Friendly', 'Look', 'Money']"
            ]
          },
          "metadata": {},
          "execution_count": 172
        }
      ]
    },
    {
      "cell_type": "markdown",
      "source": [
        "### plot ค่า mean"
      ],
      "metadata": {
        "id": "MoVeXBiHJkR1"
      }
    },
    {
      "cell_type": "code",
      "source": [
        "values = df.mean().values.flatten().tolist()\n",
        "values += values[:1] # repeat the first value to close the circular graph\n",
        "angles = [n / float(len(categories)) * 2 * pi for n in range(len(categories))]\n",
        "angles += angles[:1]"
      ],
      "metadata": {
        "id": "y-XTUmhlDS15",
        "outputId": "49ef6294-115c-4ad6-9f73-773c6c5a5c0f",
        "colab": {
          "base_uri": "https://localhost:8080/"
        }
      },
      "execution_count": 173,
      "outputs": [
        {
          "output_type": "stream",
          "name": "stderr",
          "text": [
            "/usr/local/lib/python3.7/dist-packages/ipykernel_launcher.py:1: FutureWarning: Dropping of nuisance columns in DataFrame reductions (with 'numeric_only=None') is deprecated; in a future version this will raise TypeError.  Select only valid columns before calling the reduction.\n",
            "  \"\"\"Entry point for launching an IPython kernel.\n"
          ]
        }
      ]
    },
    {
      "cell_type": "code",
      "source": [
        "fig, ax = plt.subplots(nrows=1, ncols=1, figsize=(8, 8),\n",
        "                       subplot_kw=dict(polar=True))\n",
        "\n",
        "plt.xticks(angles[:-1], categories, color='grey', size=12)\n",
        "plt.yticks(np.arange(1, 10), ['1', '2', '3', '4', '5','6','7','8','9','10'],\n",
        "           color='grey', size=12)\n",
        "\n",
        "plt.ylim(0, 10)\n",
        "ax.set_rlabel_position(30)\n",
        "\n",
        "ax.plot(angles, values, linewidth=1, linestyle='solid' , color = '#ea3033') #เส้นกราฟ\n",
        "ax.fill(angles, values, 'lightpink', alpha=0.5) #พื้นที่"
      ],
      "metadata": {
        "id": "9a82nmcnJs4t",
        "outputId": "c55c8646-e7c2-4dab-91d2-7f2274d01a20",
        "colab": {
          "base_uri": "https://localhost:8080/",
          "height": 0
        }
      },
      "execution_count": 174,
      "outputs": [
        {
          "output_type": "execute_result",
          "data": {
            "text/plain": [
              "[<matplotlib.patches.Polygon at 0x7f1583686dd0>]"
            ]
          },
          "metadata": {},
          "execution_count": 174
        },
        {
          "output_type": "display_data",
          "data": {
            "text/plain": [
              "<Figure size 576x576 with 1 Axes>"
            ],
            "image/png": "[encoded data removed]"
          },
          "metadata": {
            "needs_background": "dark"
          }
        }
      ]
    },
    {
      "cell_type": "markdown",
      "source": [
        "### Plot แต่ละคน"
      ],
      "metadata": {
        "id": "zbCFgZS4JwIe"
      }
    },
    {
      "cell_type": "code",
      "source": [
        "# คำนวณมุมของแต่ละคุณสมบัติ\n",
        "angles = [n / float(len(categories)) * 2 * pi for n in range(len(categories))] ## เปลี่ยน len(categories) เป็นจำนวนคุณสมบัติที่จะ plot\n",
        "angles += angles[:1]\n",
        "\n",
        "# สร้าง background graph\n",
        "fig, ax = plt.subplots(nrows=1, ncols=1, figsize=(8, 8),\n",
        "                       subplot_kw=dict(polar=True))\n",
        "\n",
        "plt.xticks(angles[:-1], categories, color='grey', size=12)\n",
        "plt.yticks(np.arange(1, 10), ['1', '2', '3', '4', '5','6','7','8','9','10'],    ## กำหนด scale ของค่าที่ต้องการแสดง\n",
        "           color='grey', size=12)\n",
        "\n",
        "plt.ylim(0, 10)\n",
        "ax.set_rlabel_position(30)\n",
        "\n",
        "# plot คนที่ 1\n",
        "val_c1 = df.loc[0].drop('client_id').values.flatten().tolist()    ## เลือกค่าที่ต้องการแสดง\n",
        "val_c1 += val_c1[:1]\n",
        "ax.plot(angles, val_c1, linewidth=1,\n",
        "        linestyle='solid', label='Person1')\n",
        "ax.fill(angles, val_c1, 'skyblue', alpha=0.4)     ## เลือกสี\n",
        "\n",
        "# plot คนที่ 2\n",
        "val_c2 = df.loc[1].drop('client_id').values.flatten().tolist()   ## เลือกค่าที่ต้องการแสดง\n",
        "val_c2 += val_c2[:1]\n",
        "ax.plot(angles, val_c2, linewidth=1,\n",
        "        linestyle='solid', label='Person2')\n",
        "ax.fill(angles, val_c2, 'lightpink', alpha=0.4)   ## เลือกสี\n",
        "\n",
        "ax.legend();"
      ],
      "metadata": {
        "id": "yj1Tzk1_Ju0n",
        "outputId": "268b27fe-a9cf-4688-af0e-d2e9c085cbed",
        "colab": {
          "base_uri": "https://localhost:8080/",
          "height": 0
        }
      },
      "execution_count": 175,
      "outputs": [
        {
          "output_type": "display_data",
          "data": {
            "text/plain": [
              "<Figure size 576x576 with 1 Axes>"
            ],
            "image/png": "[encoded data removed]"
          },
          "metadata": {
            "needs_background": "dark"
          }
        }
      ]
    },
    {
      "cell_type": "code",
      "source": [
        "# คำนวณมุมของแต่ละคุณสมบัติ\n",
        "angles = [n / float(len(categories)) * 2 * pi for n in range(len(categories))] ## เปลี่ยน len(categories) เป็นจำนวนคุณสมบัติที่จะ plot\n",
        "angles += angles[:1]\n",
        "\n",
        "# สร้าง background graph\n",
        "fig, ax = plt.subplots(nrows=1, ncols=1, figsize=(8, 8),\n",
        "                       subplot_kw=dict(polar=True))\n",
        "\n",
        "plt.xticks(angles[:-1], categories, color='grey', size=12)\n",
        "plt.yticks(np.arange(1, 10), ['1', '2', '3', '4', '5','6','7','8','9','10'],    ## กำหนด scale ของค่าที่ต้องการแสดง\n",
        "           color='grey', size=12)\n",
        "\n",
        "plt.ylim(0, 10)\n",
        "ax.set_rlabel_position(30)\n",
        "\n",
        "# plot คนที่ 1\n",
        "val_c1 = df.loc[0].drop('client_id').values.flatten().tolist()    ## เลือกค่าที่ต้องการแสดง\n",
        "val_c1 += val_c1[:1]\n",
        "ax.plot(angles, val_c1, linewidth=1,\n",
        "        linestyle='solid', label='Person1')\n",
        "ax.fill(angles, val_c1, 'skyblue', alpha=0.4)     ## เลือกสี\n",
        "\n",
        "# plot คนที่ 2\n",
        "val_c2 = df.loc[1].drop('client_id').values.flatten().tolist()   ## เลือกค่าที่ต้องการแสดง\n",
        "val_c2 += val_c2[:1]\n",
        "ax.plot(angles, val_c2, linewidth=1,\n",
        "        linestyle='solid', label='Person2')\n",
        "ax.fill(angles, val_c2, 'lightpink', alpha=0.4)   ## เลือกสี\n",
        "\n",
        "# plot ค่าเฉลี่ย\n",
        "values = df.mean().values.flatten().tolist()    ## เลือกค่าที่ต้องการแสดง\n",
        "values += values[:1] \n",
        "ax.plot(angles, values, linewidth=1, linestyle='solid' , color = 'g', label='Average Values') \n",
        "ax.fill(angles, values, 'lightgreen', alpha=0.5)    ## เลือกสี\n",
        "\n",
        "ax.legend();"
      ],
      "metadata": {
        "id": "YVJ3W5dTJzhc",
        "outputId": "3fe5fd55-abf1-40c8-93c0-b446bb42a15c",
        "colab": {
          "base_uri": "https://localhost:8080/",
          "height": 0
        }
      },
      "execution_count": 176,
      "outputs": [
        {
          "output_type": "stream",
          "name": "stderr",
          "text": [
            "/usr/local/lib/python3.7/dist-packages/ipykernel_launcher.py:31: FutureWarning: Dropping of nuisance columns in DataFrame reductions (with 'numeric_only=None') is deprecated; in a future version this will raise TypeError.  Select only valid columns before calling the reduction.\n"
          ]
        },
        {
          "output_type": "display_data",
          "data": {
            "text/plain": [
              "<Figure size 576x576 with 1 Axes>"
            ],
            "image/png": "[encoded data removed]"
          },
          "metadata": {
            "needs_background": "dark"
          }
        }
      ]
    },
    {
      "cell_type": "code",
      "source": [
        "angles"
      ],
      "metadata": {
        "id": "Ifq2GsT7J3Sg",
        "outputId": "55e9f390-4b42-4943-8ba0-0dd43d50210d",
        "colab": {
          "base_uri": "https://localhost:8080/"
        }
      },
      "execution_count": 177,
      "outputs": [
        {
          "output_type": "execute_result",
          "data": {
            "text/plain": [
              "[0.0,\n",
              " 1.2566370614359172,\n",
              " 2.5132741228718345,\n",
              " 3.7699111843077517,\n",
              " 5.026548245743669,\n",
              " 0.0]"
            ]
          },
          "metadata": {},
          "execution_count": 177
        }
      ]
    },
    {
      "cell_type": "code",
      "source": [
        "val_c1"
      ],
      "metadata": {
        "id": "dV1-SMgjJ5b_",
        "outputId": "ad8d2b60-ae20-410d-cbf5-abaa6251c44e",
        "colab": {
          "base_uri": "https://localhost:8080/"
        }
      },
      "execution_count": 178,
      "outputs": [
        {
          "output_type": "execute_result",
          "data": {
            "text/plain": [
              "[10, 7, 4, 4, 2, 10]"
            ]
          },
          "metadata": {},
          "execution_count": 178
        }
      ]
    },
    {
      "cell_type": "code",
      "source": [
        ""
      ],
      "metadata": {
        "id": "mPwPhepvJ66d"
      },
      "execution_count": 178,
      "outputs": []
    }
  ]
}